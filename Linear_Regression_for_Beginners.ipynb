{
  "nbformat": 4,
  "nbformat_minor": 0,
  "metadata": {
    "colab": {
      "name": "Linear Regression for Beginners.ipynb",
      "provenance": [],
      "collapsed_sections": [],
      "include_colab_link": true
    },
    "kernelspec": {
      "name": "python3",
      "display_name": "Python 3"
    },
    "language_info": {
      "name": "python"
    }
  },
  "cells": [
    {
      "cell_type": "markdown",
      "metadata": {
        "id": "view-in-github",
        "colab_type": "text"
      },
      "source": [
        "<a href=\"https://colab.research.google.com/github/gokulj45/Linear-Regression/blob/main/Linear_Regression_for_Beginners.ipynb\" target=\"_parent\"><img src=\"https://colab.research.google.com/assets/colab-badge.svg\" alt=\"Open In Colab\"/></a>"
      ]
    },
    {
      "cell_type": "markdown",
      "source": [
        "#**Linear Regression on - Computer Hardware Performance dataset**\n",
        "\n",
        "Note: Prepared with Google Colab, best rendered when opened with Colab"
      ],
      "metadata": {
        "id": "8U9qFPisY6xU"
      }
    },
    {
      "cell_type": "markdown",
      "source": [
        "##Importing Libraries and Datasets"
      ],
      "metadata": {
        "id": "TEwfE8fDwG15"
      }
    },
    {
      "cell_type": "code",
      "execution_count": 1,
      "metadata": {
        "id": "Yy1WNewjurCI"
      },
      "outputs": [],
      "source": [
        "#Importing necessary libraries\n",
        "import copy, math\n",
        "import numpy as np\n",
        "import pandas as pd\n",
        "import seaborn as sns\n",
        "from scipy import stats\n",
        "from scipy.stats import skew\n",
        "from scipy.special import boxcox1p\n",
        "from scipy.stats import boxcox_normmax\n",
        "%matplotlib inline\n",
        "import matplotlib.pyplot as plt\n",
        "import matplotlib.gridspec as gridspec\n",
        "import matplotlib.style as style\n",
        "from sklearn import linear_model\n",
        "from sklearn import datasets\n",
        "from sklearn.preprocessing import StandardScaler,RobustScaler\n",
        "from sklearn.model_selection import train_test_split\n",
        "from sklearn.metrics import mean_squared_error, mean_absolute_error, confusion_matrix\n",
        "from sklearn.model_selection import KFold, cross_val_score\n",
        "from math import sqrt\n",
        "from IPython.display import display\n",
        "\n",
        "#Ignoring warnings\n",
        "import warnings\n",
        "warnings.filterwarnings(\"ignore\")"
      ]
    },
    {
      "cell_type": "markdown",
      "source": [
        "> ## The data set is taken from - [Data set](https://archive.ics.uci.edu/ml/machine-learning-databases/cpu-performance/)"
      ],
      "metadata": {
        "id": "5Wm9K0CCWaEH"
      }
    },
    {
      "cell_type": "markdown",
      "source": [
        "## Data Visualization and Exploration"
      ],
      "metadata": {
        "id": "ViZ9yS-nwdA7"
      }
    },
    {
      "cell_type": "code",
      "source": [
        "#Creating a list with attribute names\n",
        "feature_list: list = ['Vendor_name','Model_name','Machine_cycle_time', 'Min_main_mem', 'Max_main_mem', 'Cache_mem', 'Min_channels', 'Max_channels', 'Published_performance', 'Estimated_performance' ];\n",
        "#Reading the dataset and storing it to a pandas dataframe\n",
        "data_df: object = pd.read_csv('https://raw.githubusercontent.com/gokulj45/Linear-Regression/main/machine.data', names=feature_list)\n",
        "#data_df: object = pd.read_csv('machine.data', names=feature_list)\n",
        "#Printing first two records for sanity check\n",
        "display(data_df.head(5))\n"
      ],
      "metadata": {
        "colab": {
          "base_uri": "https://localhost:8080/",
          "height": 270
        },
        "id": "NKuFhWDXv3FC",
        "outputId": "37fc4a4b-680c-4ea6-e4d3-6cdd54382140"
      },
      "execution_count": 2,
      "outputs": [
        {
          "output_type": "display_data",
          "data": {
            "text/plain": [
              "  Vendor_name Model_name  Machine_cycle_time  Min_main_mem  Max_main_mem  \\\n",
              "0     adviser      32/60                 125           256          6000   \n",
              "1      amdahl     470v/7                  29          8000         32000   \n",
              "2      amdahl    470v/7a                  29          8000         32000   \n",
              "3      amdahl    470v/7b                  29          8000         32000   \n",
              "4      amdahl    470v/7c                  29          8000         16000   \n",
              "\n",
              "   Cache_mem  Min_channels  Max_channels  Published_performance  \\\n",
              "0        256            16           128                    198   \n",
              "1         32             8            32                    269   \n",
              "2         32             8            32                    220   \n",
              "3         32             8            32                    172   \n",
              "4         32             8            16                    132   \n",
              "\n",
              "   Estimated_performance  \n",
              "0                    199  \n",
              "1                    253  \n",
              "2                    253  \n",
              "3                    253  \n",
              "4                    132  "
            ],
            "text/html": [
              "\n",
              "  <div id=\"df-59e98b58-d06d-413e-bb73-bd6a96bc4e0f\">\n",
              "    <div class=\"colab-df-container\">\n",
              "      <div>\n",
              "<style scoped>\n",
              "    .dataframe tbody tr th:only-of-type {\n",
              "        vertical-align: middle;\n",
              "    }\n",
              "\n",
              "    .dataframe tbody tr th {\n",
              "        vertical-align: top;\n",
              "    }\n",
              "\n",
              "    .dataframe thead th {\n",
              "        text-align: right;\n",
              "    }\n",
              "</style>\n",
              "<table border=\"1\" class=\"dataframe\">\n",
              "  <thead>\n",
              "    <tr style=\"text-align: right;\">\n",
              "      <th></th>\n",
              "      <th>Vendor_name</th>\n",
              "      <th>Model_name</th>\n",
              "      <th>Machine_cycle_time</th>\n",
              "      <th>Min_main_mem</th>\n",
              "      <th>Max_main_mem</th>\n",
              "      <th>Cache_mem</th>\n",
              "      <th>Min_channels</th>\n",
              "      <th>Max_channels</th>\n",
              "      <th>Published_performance</th>\n",
              "      <th>Estimated_performance</th>\n",
              "    </tr>\n",
              "  </thead>\n",
              "  <tbody>\n",
              "    <tr>\n",
              "      <th>0</th>\n",
              "      <td>adviser</td>\n",
              "      <td>32/60</td>\n",
              "      <td>125</td>\n",
              "      <td>256</td>\n",
              "      <td>6000</td>\n",
              "      <td>256</td>\n",
              "      <td>16</td>\n",
              "      <td>128</td>\n",
              "      <td>198</td>\n",
              "      <td>199</td>\n",
              "    </tr>\n",
              "    <tr>\n",
              "      <th>1</th>\n",
              "      <td>amdahl</td>\n",
              "      <td>470v/7</td>\n",
              "      <td>29</td>\n",
              "      <td>8000</td>\n",
              "      <td>32000</td>\n",
              "      <td>32</td>\n",
              "      <td>8</td>\n",
              "      <td>32</td>\n",
              "      <td>269</td>\n",
              "      <td>253</td>\n",
              "    </tr>\n",
              "    <tr>\n",
              "      <th>2</th>\n",
              "      <td>amdahl</td>\n",
              "      <td>470v/7a</td>\n",
              "      <td>29</td>\n",
              "      <td>8000</td>\n",
              "      <td>32000</td>\n",
              "      <td>32</td>\n",
              "      <td>8</td>\n",
              "      <td>32</td>\n",
              "      <td>220</td>\n",
              "      <td>253</td>\n",
              "    </tr>\n",
              "    <tr>\n",
              "      <th>3</th>\n",
              "      <td>amdahl</td>\n",
              "      <td>470v/7b</td>\n",
              "      <td>29</td>\n",
              "      <td>8000</td>\n",
              "      <td>32000</td>\n",
              "      <td>32</td>\n",
              "      <td>8</td>\n",
              "      <td>32</td>\n",
              "      <td>172</td>\n",
              "      <td>253</td>\n",
              "    </tr>\n",
              "    <tr>\n",
              "      <th>4</th>\n",
              "      <td>amdahl</td>\n",
              "      <td>470v/7c</td>\n",
              "      <td>29</td>\n",
              "      <td>8000</td>\n",
              "      <td>16000</td>\n",
              "      <td>32</td>\n",
              "      <td>8</td>\n",
              "      <td>16</td>\n",
              "      <td>132</td>\n",
              "      <td>132</td>\n",
              "    </tr>\n",
              "  </tbody>\n",
              "</table>\n",
              "</div>\n",
              "      <button class=\"colab-df-convert\" onclick=\"convertToInteractive('df-59e98b58-d06d-413e-bb73-bd6a96bc4e0f')\"\n",
              "              title=\"Convert this dataframe to an interactive table.\"\n",
              "              style=\"display:none;\">\n",
              "        \n",
              "  <svg xmlns=\"http://www.w3.org/2000/svg\" height=\"24px\"viewBox=\"0 0 24 24\"\n",
              "       width=\"24px\">\n",
              "    <path d=\"M0 0h24v24H0V0z\" fill=\"none\"/>\n",
              "    <path d=\"M18.56 5.44l.94 2.06.94-2.06 2.06-.94-2.06-.94-.94-2.06-.94 2.06-2.06.94zm-11 1L8.5 8.5l.94-2.06 2.06-.94-2.06-.94L8.5 2.5l-.94 2.06-2.06.94zm10 10l.94 2.06.94-2.06 2.06-.94-2.06-.94-.94-2.06-.94 2.06-2.06.94z\"/><path d=\"M17.41 7.96l-1.37-1.37c-.4-.4-.92-.59-1.43-.59-.52 0-1.04.2-1.43.59L10.3 9.45l-7.72 7.72c-.78.78-.78 2.05 0 2.83L4 21.41c.39.39.9.59 1.41.59.51 0 1.02-.2 1.41-.59l7.78-7.78 2.81-2.81c.8-.78.8-2.07 0-2.86zM5.41 20L4 18.59l7.72-7.72 1.47 1.35L5.41 20z\"/>\n",
              "  </svg>\n",
              "      </button>\n",
              "      \n",
              "  <style>\n",
              "    .colab-df-container {\n",
              "      display:flex;\n",
              "      flex-wrap:wrap;\n",
              "      gap: 12px;\n",
              "    }\n",
              "\n",
              "    .colab-df-convert {\n",
              "      background-color: #E8F0FE;\n",
              "      border: none;\n",
              "      border-radius: 50%;\n",
              "      cursor: pointer;\n",
              "      display: none;\n",
              "      fill: #1967D2;\n",
              "      height: 32px;\n",
              "      padding: 0 0 0 0;\n",
              "      width: 32px;\n",
              "    }\n",
              "\n",
              "    .colab-df-convert:hover {\n",
              "      background-color: #E2EBFA;\n",
              "      box-shadow: 0px 1px 2px rgba(60, 64, 67, 0.3), 0px 1px 3px 1px rgba(60, 64, 67, 0.15);\n",
              "      fill: #174EA6;\n",
              "    }\n",
              "\n",
              "    [theme=dark] .colab-df-convert {\n",
              "      background-color: #3B4455;\n",
              "      fill: #D2E3FC;\n",
              "    }\n",
              "\n",
              "    [theme=dark] .colab-df-convert:hover {\n",
              "      background-color: #434B5C;\n",
              "      box-shadow: 0px 1px 3px 1px rgba(0, 0, 0, 0.15);\n",
              "      filter: drop-shadow(0px 1px 2px rgba(0, 0, 0, 0.3));\n",
              "      fill: #FFFFFF;\n",
              "    }\n",
              "  </style>\n",
              "\n",
              "      <script>\n",
              "        const buttonEl =\n",
              "          document.querySelector('#df-59e98b58-d06d-413e-bb73-bd6a96bc4e0f button.colab-df-convert');\n",
              "        buttonEl.style.display =\n",
              "          google.colab.kernel.accessAllowed ? 'block' : 'none';\n",
              "\n",
              "        async function convertToInteractive(key) {\n",
              "          const element = document.querySelector('#df-59e98b58-d06d-413e-bb73-bd6a96bc4e0f');\n",
              "          const dataTable =\n",
              "            await google.colab.kernel.invokeFunction('convertToInteractive',\n",
              "                                                     [key], {});\n",
              "          if (!dataTable) return;\n",
              "\n",
              "          const docLinkHtml = 'Like what you see? Visit the ' +\n",
              "            '<a target=\"_blank\" href=https://colab.research.google.com/notebooks/data_table.ipynb>data table notebook</a>'\n",
              "            + ' to learn more about interactive tables.';\n",
              "          element.innerHTML = '';\n",
              "          dataTable['output_type'] = 'display_data';\n",
              "          await google.colab.output.renderOutput(dataTable, element);\n",
              "          const docLink = document.createElement('div');\n",
              "          docLink.innerHTML = docLinkHtml;\n",
              "          element.appendChild(docLink);\n",
              "        }\n",
              "      </script>\n",
              "    </div>\n",
              "  </div>\n",
              "  "
            ]
          },
          "metadata": {}
        }
      ]
    },
    {
      "cell_type": "markdown",
      "source": [
        "###Statistical Measures"
      ],
      "metadata": {
        "id": "1yHzz1ygwpmj"
      }
    },
    {
      "cell_type": "code",
      "source": [
        "#Number of Instances = 209\n",
        "#Number of Attributes = 10\n",
        "display(data_df.info())"
      ],
      "metadata": {
        "colab": {
          "base_uri": "https://localhost:8080/",
          "height": 330
        },
        "id": "oMUrBDhSH6Hb",
        "outputId": "2838aba4-a4ec-4ff2-fb6e-6630727dba33"
      },
      "execution_count": 3,
      "outputs": [
        {
          "output_type": "stream",
          "name": "stdout",
          "text": [
            "<class 'pandas.core.frame.DataFrame'>\n",
            "RangeIndex: 209 entries, 0 to 208\n",
            "Data columns (total 10 columns):\n",
            " #   Column                 Non-Null Count  Dtype \n",
            "---  ------                 --------------  ----- \n",
            " 0   Vendor_name            209 non-null    object\n",
            " 1   Model_name             209 non-null    object\n",
            " 2   Machine_cycle_time     209 non-null    int64 \n",
            " 3   Min_main_mem           209 non-null    int64 \n",
            " 4   Max_main_mem           209 non-null    int64 \n",
            " 5   Cache_mem              209 non-null    int64 \n",
            " 6   Min_channels           209 non-null    int64 \n",
            " 7   Max_channels           209 non-null    int64 \n",
            " 8   Published_performance  209 non-null    int64 \n",
            " 9   Estimated_performance  209 non-null    int64 \n",
            "dtypes: int64(8), object(2)\n",
            "memory usage: 16.5+ KB\n"
          ]
        },
        {
          "output_type": "display_data",
          "data": {
            "text/plain": [
              "None"
            ]
          },
          "metadata": {}
        }
      ]
    },
    {
      "cell_type": "code",
      "source": [
        "#Descriptive statistical measures of the data\n",
        "display(data_df.describe())"
      ],
      "metadata": {
        "id": "Ofg_T1hoxWjD",
        "colab": {
          "base_uri": "https://localhost:8080/",
          "height": 300
        },
        "outputId": "ce4b0e4c-4b35-40fa-a5b9-a54f0f8d183f"
      },
      "execution_count": 4,
      "outputs": [
        {
          "output_type": "display_data",
          "data": {
            "text/plain": [
              "       Machine_cycle_time  Min_main_mem  Max_main_mem   Cache_mem  \\\n",
              "count          209.000000    209.000000    209.000000  209.000000   \n",
              "mean           203.822967   2867.980861  11796.153110   25.205742   \n",
              "std            260.262926   3878.742758  11726.564377   40.628722   \n",
              "min             17.000000     64.000000     64.000000    0.000000   \n",
              "25%             50.000000    768.000000   4000.000000    0.000000   \n",
              "50%            110.000000   2000.000000   8000.000000    8.000000   \n",
              "75%            225.000000   4000.000000  16000.000000   32.000000   \n",
              "max           1500.000000  32000.000000  64000.000000  256.000000   \n",
              "\n",
              "       Min_channels  Max_channels  Published_performance  \\\n",
              "count    209.000000    209.000000             209.000000   \n",
              "mean       4.698565     18.267943             105.622010   \n",
              "std        6.816274     25.997318             160.830733   \n",
              "min        0.000000      0.000000               6.000000   \n",
              "25%        1.000000      5.000000              27.000000   \n",
              "50%        2.000000      8.000000              50.000000   \n",
              "75%        6.000000     24.000000             113.000000   \n",
              "max       52.000000    176.000000            1150.000000   \n",
              "\n",
              "       Estimated_performance  \n",
              "count             209.000000  \n",
              "mean               99.330144  \n",
              "std               154.757102  \n",
              "min                15.000000  \n",
              "25%                28.000000  \n",
              "50%                45.000000  \n",
              "75%               101.000000  \n",
              "max              1238.000000  "
            ],
            "text/html": [
              "\n",
              "  <div id=\"df-b58558bc-44ee-4f19-a2f9-e31e84a5e9db\">\n",
              "    <div class=\"colab-df-container\">\n",
              "      <div>\n",
              "<style scoped>\n",
              "    .dataframe tbody tr th:only-of-type {\n",
              "        vertical-align: middle;\n",
              "    }\n",
              "\n",
              "    .dataframe tbody tr th {\n",
              "        vertical-align: top;\n",
              "    }\n",
              "\n",
              "    .dataframe thead th {\n",
              "        text-align: right;\n",
              "    }\n",
              "</style>\n",
              "<table border=\"1\" class=\"dataframe\">\n",
              "  <thead>\n",
              "    <tr style=\"text-align: right;\">\n",
              "      <th></th>\n",
              "      <th>Machine_cycle_time</th>\n",
              "      <th>Min_main_mem</th>\n",
              "      <th>Max_main_mem</th>\n",
              "      <th>Cache_mem</th>\n",
              "      <th>Min_channels</th>\n",
              "      <th>Max_channels</th>\n",
              "      <th>Published_performance</th>\n",
              "      <th>Estimated_performance</th>\n",
              "    </tr>\n",
              "  </thead>\n",
              "  <tbody>\n",
              "    <tr>\n",
              "      <th>count</th>\n",
              "      <td>209.000000</td>\n",
              "      <td>209.000000</td>\n",
              "      <td>209.000000</td>\n",
              "      <td>209.000000</td>\n",
              "      <td>209.000000</td>\n",
              "      <td>209.000000</td>\n",
              "      <td>209.000000</td>\n",
              "      <td>209.000000</td>\n",
              "    </tr>\n",
              "    <tr>\n",
              "      <th>mean</th>\n",
              "      <td>203.822967</td>\n",
              "      <td>2867.980861</td>\n",
              "      <td>11796.153110</td>\n",
              "      <td>25.205742</td>\n",
              "      <td>4.698565</td>\n",
              "      <td>18.267943</td>\n",
              "      <td>105.622010</td>\n",
              "      <td>99.330144</td>\n",
              "    </tr>\n",
              "    <tr>\n",
              "      <th>std</th>\n",
              "      <td>260.262926</td>\n",
              "      <td>3878.742758</td>\n",
              "      <td>11726.564377</td>\n",
              "      <td>40.628722</td>\n",
              "      <td>6.816274</td>\n",
              "      <td>25.997318</td>\n",
              "      <td>160.830733</td>\n",
              "      <td>154.757102</td>\n",
              "    </tr>\n",
              "    <tr>\n",
              "      <th>min</th>\n",
              "      <td>17.000000</td>\n",
              "      <td>64.000000</td>\n",
              "      <td>64.000000</td>\n",
              "      <td>0.000000</td>\n",
              "      <td>0.000000</td>\n",
              "      <td>0.000000</td>\n",
              "      <td>6.000000</td>\n",
              "      <td>15.000000</td>\n",
              "    </tr>\n",
              "    <tr>\n",
              "      <th>25%</th>\n",
              "      <td>50.000000</td>\n",
              "      <td>768.000000</td>\n",
              "      <td>4000.000000</td>\n",
              "      <td>0.000000</td>\n",
              "      <td>1.000000</td>\n",
              "      <td>5.000000</td>\n",
              "      <td>27.000000</td>\n",
              "      <td>28.000000</td>\n",
              "    </tr>\n",
              "    <tr>\n",
              "      <th>50%</th>\n",
              "      <td>110.000000</td>\n",
              "      <td>2000.000000</td>\n",
              "      <td>8000.000000</td>\n",
              "      <td>8.000000</td>\n",
              "      <td>2.000000</td>\n",
              "      <td>8.000000</td>\n",
              "      <td>50.000000</td>\n",
              "      <td>45.000000</td>\n",
              "    </tr>\n",
              "    <tr>\n",
              "      <th>75%</th>\n",
              "      <td>225.000000</td>\n",
              "      <td>4000.000000</td>\n",
              "      <td>16000.000000</td>\n",
              "      <td>32.000000</td>\n",
              "      <td>6.000000</td>\n",
              "      <td>24.000000</td>\n",
              "      <td>113.000000</td>\n",
              "      <td>101.000000</td>\n",
              "    </tr>\n",
              "    <tr>\n",
              "      <th>max</th>\n",
              "      <td>1500.000000</td>\n",
              "      <td>32000.000000</td>\n",
              "      <td>64000.000000</td>\n",
              "      <td>256.000000</td>\n",
              "      <td>52.000000</td>\n",
              "      <td>176.000000</td>\n",
              "      <td>1150.000000</td>\n",
              "      <td>1238.000000</td>\n",
              "    </tr>\n",
              "  </tbody>\n",
              "</table>\n",
              "</div>\n",
              "      <button class=\"colab-df-convert\" onclick=\"convertToInteractive('df-b58558bc-44ee-4f19-a2f9-e31e84a5e9db')\"\n",
              "              title=\"Convert this dataframe to an interactive table.\"\n",
              "              style=\"display:none;\">\n",
              "        \n",
              "  <svg xmlns=\"http://www.w3.org/2000/svg\" height=\"24px\"viewBox=\"0 0 24 24\"\n",
              "       width=\"24px\">\n",
              "    <path d=\"M0 0h24v24H0V0z\" fill=\"none\"/>\n",
              "    <path d=\"M18.56 5.44l.94 2.06.94-2.06 2.06-.94-2.06-.94-.94-2.06-.94 2.06-2.06.94zm-11 1L8.5 8.5l.94-2.06 2.06-.94-2.06-.94L8.5 2.5l-.94 2.06-2.06.94zm10 10l.94 2.06.94-2.06 2.06-.94-2.06-.94-.94-2.06-.94 2.06-2.06.94z\"/><path d=\"M17.41 7.96l-1.37-1.37c-.4-.4-.92-.59-1.43-.59-.52 0-1.04.2-1.43.59L10.3 9.45l-7.72 7.72c-.78.78-.78 2.05 0 2.83L4 21.41c.39.39.9.59 1.41.59.51 0 1.02-.2 1.41-.59l7.78-7.78 2.81-2.81c.8-.78.8-2.07 0-2.86zM5.41 20L4 18.59l7.72-7.72 1.47 1.35L5.41 20z\"/>\n",
              "  </svg>\n",
              "      </button>\n",
              "      \n",
              "  <style>\n",
              "    .colab-df-container {\n",
              "      display:flex;\n",
              "      flex-wrap:wrap;\n",
              "      gap: 12px;\n",
              "    }\n",
              "\n",
              "    .colab-df-convert {\n",
              "      background-color: #E8F0FE;\n",
              "      border: none;\n",
              "      border-radius: 50%;\n",
              "      cursor: pointer;\n",
              "      display: none;\n",
              "      fill: #1967D2;\n",
              "      height: 32px;\n",
              "      padding: 0 0 0 0;\n",
              "      width: 32px;\n",
              "    }\n",
              "\n",
              "    .colab-df-convert:hover {\n",
              "      background-color: #E2EBFA;\n",
              "      box-shadow: 0px 1px 2px rgba(60, 64, 67, 0.3), 0px 1px 3px 1px rgba(60, 64, 67, 0.15);\n",
              "      fill: #174EA6;\n",
              "    }\n",
              "\n",
              "    [theme=dark] .colab-df-convert {\n",
              "      background-color: #3B4455;\n",
              "      fill: #D2E3FC;\n",
              "    }\n",
              "\n",
              "    [theme=dark] .colab-df-convert:hover {\n",
              "      background-color: #434B5C;\n",
              "      box-shadow: 0px 1px 3px 1px rgba(0, 0, 0, 0.15);\n",
              "      filter: drop-shadow(0px 1px 2px rgba(0, 0, 0, 0.3));\n",
              "      fill: #FFFFFF;\n",
              "    }\n",
              "  </style>\n",
              "\n",
              "      <script>\n",
              "        const buttonEl =\n",
              "          document.querySelector('#df-b58558bc-44ee-4f19-a2f9-e31e84a5e9db button.colab-df-convert');\n",
              "        buttonEl.style.display =\n",
              "          google.colab.kernel.accessAllowed ? 'block' : 'none';\n",
              "\n",
              "        async function convertToInteractive(key) {\n",
              "          const element = document.querySelector('#df-b58558bc-44ee-4f19-a2f9-e31e84a5e9db');\n",
              "          const dataTable =\n",
              "            await google.colab.kernel.invokeFunction('convertToInteractive',\n",
              "                                                     [key], {});\n",
              "          if (!dataTable) return;\n",
              "\n",
              "          const docLinkHtml = 'Like what you see? Visit the ' +\n",
              "            '<a target=\"_blank\" href=https://colab.research.google.com/notebooks/data_table.ipynb>data table notebook</a>'\n",
              "            + ' to learn more about interactive tables.';\n",
              "          element.innerHTML = '';\n",
              "          dataTable['output_type'] = 'display_data';\n",
              "          await google.colab.output.renderOutput(dataTable, element);\n",
              "          const docLink = document.createElement('div');\n",
              "          docLink.innerHTML = docLinkHtml;\n",
              "          element.appendChild(docLink);\n",
              "        }\n",
              "      </script>\n",
              "    </div>\n",
              "  </div>\n",
              "  "
            ]
          },
          "metadata": {}
        }
      ]
    },
    {
      "cell_type": "markdown",
      "source": [
        "### Null Value and Missing value Analysis"
      ],
      "metadata": {
        "id": "phvwTtWbUOUw"
      }
    },
    {
      "cell_type": "code",
      "source": [
        "# Checking for null values in all attributes\n",
        "display(data_df.isnull().sum())"
      ],
      "metadata": {
        "colab": {
          "base_uri": "https://localhost:8080/",
          "height": 208
        },
        "id": "YI5QJwMVTSZ2",
        "outputId": "17313169-0521-4c47-92c9-ec6aae4ffe90"
      },
      "execution_count": 5,
      "outputs": [
        {
          "output_type": "display_data",
          "data": {
            "text/plain": [
              "Vendor_name              0\n",
              "Model_name               0\n",
              "Machine_cycle_time       0\n",
              "Min_main_mem             0\n",
              "Max_main_mem             0\n",
              "Cache_mem                0\n",
              "Min_channels             0\n",
              "Max_channels             0\n",
              "Published_performance    0\n",
              "Estimated_performance    0\n",
              "dtype: int64"
            ]
          },
          "metadata": {}
        }
      ]
    },
    {
      "cell_type": "code",
      "source": [
        "# Checking for Duplicate values in all attributes\n",
        "print(\"No of Duplicate values : \",data_df.duplicated().sum())"
      ],
      "metadata": {
        "colab": {
          "base_uri": "https://localhost:8080/"
        },
        "id": "qRFhgNDIYdR0",
        "outputId": "26ca0139-e838-46e1-f0d0-a73c0c9ac7c2"
      },
      "execution_count": 6,
      "outputs": [
        {
          "output_type": "stream",
          "name": "stdout",
          "text": [
            "No of Duplicate values :  0\n"
          ]
        }
      ]
    },
    {
      "cell_type": "markdown",
      "source": [
        "There are no Null values and Missing values present and hence no explicit handling is required for the same."
      ],
      "metadata": {
        "id": "QedmuQBe-Ive"
      }
    },
    {
      "cell_type": "markdown",
      "source": [
        "### Correlation Analaysis"
      ],
      "metadata": {
        "id": "dFCoErVFwSRR"
      }
    },
    {
      "cell_type": "code",
      "source": [
        "#Using only 6 predictive attributes and goal attribute for correlation analysis\n",
        "# Dropping vendor name, model name and estimated performance attribute\n",
        "input_df = data_df.drop(columns=['Vendor_name', 'Model_name', 'Estimated_performance'])\n",
        "print(\"The predictive attributes are :\")\n",
        "for i in input_df.columns:\n",
        "  print(i)\n",
        "correlation_matrix: object = input_df.corr()\n",
        "display(correlation_matrix)"
      ],
      "metadata": {
        "colab": {
          "base_uri": "https://localhost:8080/",
          "height": 408
        },
        "id": "aZHWqsUXSy1_",
        "outputId": "ba967def-83a3-4595-dc60-acf112edda71"
      },
      "execution_count": 7,
      "outputs": [
        {
          "output_type": "stream",
          "name": "stdout",
          "text": [
            "The predictive attributes are :\n",
            "Machine_cycle_time\n",
            "Min_main_mem\n",
            "Max_main_mem\n",
            "Cache_mem\n",
            "Min_channels\n",
            "Max_channels\n",
            "Published_performance\n"
          ]
        },
        {
          "output_type": "display_data",
          "data": {
            "text/plain": [
              "                       Machine_cycle_time  Min_main_mem  Max_main_mem  \\\n",
              "Machine_cycle_time               1.000000     -0.335642     -0.378561   \n",
              "Min_main_mem                    -0.335642      1.000000      0.758157   \n",
              "Max_main_mem                    -0.378561      0.758157      1.000000   \n",
              "Cache_mem                       -0.321000      0.534729      0.537990   \n",
              "Min_channels                    -0.301090      0.517189      0.560513   \n",
              "Max_channels                    -0.250502      0.266907      0.527246   \n",
              "Published_performance           -0.307099      0.794931      0.863004   \n",
              "\n",
              "                       Cache_mem  Min_channels  Max_channels  \\\n",
              "Machine_cycle_time     -0.321000     -0.301090     -0.250502   \n",
              "Min_main_mem            0.534729      0.517189      0.266907   \n",
              "Max_main_mem            0.537990      0.560513      0.527246   \n",
              "Cache_mem               1.000000      0.582245      0.487846   \n",
              "Min_channels            0.582245      1.000000      0.548281   \n",
              "Max_channels            0.487846      0.548281      1.000000   \n",
              "Published_performance   0.662641      0.608903      0.605209   \n",
              "\n",
              "                       Published_performance  \n",
              "Machine_cycle_time                 -0.307099  \n",
              "Min_main_mem                        0.794931  \n",
              "Max_main_mem                        0.863004  \n",
              "Cache_mem                           0.662641  \n",
              "Min_channels                        0.608903  \n",
              "Max_channels                        0.605209  \n",
              "Published_performance               1.000000  "
            ],
            "text/html": [
              "\n",
              "  <div id=\"df-4f7c743b-2e2a-4368-ac7e-8f6c637b28b6\">\n",
              "    <div class=\"colab-df-container\">\n",
              "      <div>\n",
              "<style scoped>\n",
              "    .dataframe tbody tr th:only-of-type {\n",
              "        vertical-align: middle;\n",
              "    }\n",
              "\n",
              "    .dataframe tbody tr th {\n",
              "        vertical-align: top;\n",
              "    }\n",
              "\n",
              "    .dataframe thead th {\n",
              "        text-align: right;\n",
              "    }\n",
              "</style>\n",
              "<table border=\"1\" class=\"dataframe\">\n",
              "  <thead>\n",
              "    <tr style=\"text-align: right;\">\n",
              "      <th></th>\n",
              "      <th>Machine_cycle_time</th>\n",
              "      <th>Min_main_mem</th>\n",
              "      <th>Max_main_mem</th>\n",
              "      <th>Cache_mem</th>\n",
              "      <th>Min_channels</th>\n",
              "      <th>Max_channels</th>\n",
              "      <th>Published_performance</th>\n",
              "    </tr>\n",
              "  </thead>\n",
              "  <tbody>\n",
              "    <tr>\n",
              "      <th>Machine_cycle_time</th>\n",
              "      <td>1.000000</td>\n",
              "      <td>-0.335642</td>\n",
              "      <td>-0.378561</td>\n",
              "      <td>-0.321000</td>\n",
              "      <td>-0.301090</td>\n",
              "      <td>-0.250502</td>\n",
              "      <td>-0.307099</td>\n",
              "    </tr>\n",
              "    <tr>\n",
              "      <th>Min_main_mem</th>\n",
              "      <td>-0.335642</td>\n",
              "      <td>1.000000</td>\n",
              "      <td>0.758157</td>\n",
              "      <td>0.534729</td>\n",
              "      <td>0.517189</td>\n",
              "      <td>0.266907</td>\n",
              "      <td>0.794931</td>\n",
              "    </tr>\n",
              "    <tr>\n",
              "      <th>Max_main_mem</th>\n",
              "      <td>-0.378561</td>\n",
              "      <td>0.758157</td>\n",
              "      <td>1.000000</td>\n",
              "      <td>0.537990</td>\n",
              "      <td>0.560513</td>\n",
              "      <td>0.527246</td>\n",
              "      <td>0.863004</td>\n",
              "    </tr>\n",
              "    <tr>\n",
              "      <th>Cache_mem</th>\n",
              "      <td>-0.321000</td>\n",
              "      <td>0.534729</td>\n",
              "      <td>0.537990</td>\n",
              "      <td>1.000000</td>\n",
              "      <td>0.582245</td>\n",
              "      <td>0.487846</td>\n",
              "      <td>0.662641</td>\n",
              "    </tr>\n",
              "    <tr>\n",
              "      <th>Min_channels</th>\n",
              "      <td>-0.301090</td>\n",
              "      <td>0.517189</td>\n",
              "      <td>0.560513</td>\n",
              "      <td>0.582245</td>\n",
              "      <td>1.000000</td>\n",
              "      <td>0.548281</td>\n",
              "      <td>0.608903</td>\n",
              "    </tr>\n",
              "    <tr>\n",
              "      <th>Max_channels</th>\n",
              "      <td>-0.250502</td>\n",
              "      <td>0.266907</td>\n",
              "      <td>0.527246</td>\n",
              "      <td>0.487846</td>\n",
              "      <td>0.548281</td>\n",
              "      <td>1.000000</td>\n",
              "      <td>0.605209</td>\n",
              "    </tr>\n",
              "    <tr>\n",
              "      <th>Published_performance</th>\n",
              "      <td>-0.307099</td>\n",
              "      <td>0.794931</td>\n",
              "      <td>0.863004</td>\n",
              "      <td>0.662641</td>\n",
              "      <td>0.608903</td>\n",
              "      <td>0.605209</td>\n",
              "      <td>1.000000</td>\n",
              "    </tr>\n",
              "  </tbody>\n",
              "</table>\n",
              "</div>\n",
              "      <button class=\"colab-df-convert\" onclick=\"convertToInteractive('df-4f7c743b-2e2a-4368-ac7e-8f6c637b28b6')\"\n",
              "              title=\"Convert this dataframe to an interactive table.\"\n",
              "              style=\"display:none;\">\n",
              "        \n",
              "  <svg xmlns=\"http://www.w3.org/2000/svg\" height=\"24px\"viewBox=\"0 0 24 24\"\n",
              "       width=\"24px\">\n",
              "    <path d=\"M0 0h24v24H0V0z\" fill=\"none\"/>\n",
              "    <path d=\"M18.56 5.44l.94 2.06.94-2.06 2.06-.94-2.06-.94-.94-2.06-.94 2.06-2.06.94zm-11 1L8.5 8.5l.94-2.06 2.06-.94-2.06-.94L8.5 2.5l-.94 2.06-2.06.94zm10 10l.94 2.06.94-2.06 2.06-.94-2.06-.94-.94-2.06-.94 2.06-2.06.94z\"/><path d=\"M17.41 7.96l-1.37-1.37c-.4-.4-.92-.59-1.43-.59-.52 0-1.04.2-1.43.59L10.3 9.45l-7.72 7.72c-.78.78-.78 2.05 0 2.83L4 21.41c.39.39.9.59 1.41.59.51 0 1.02-.2 1.41-.59l7.78-7.78 2.81-2.81c.8-.78.8-2.07 0-2.86zM5.41 20L4 18.59l7.72-7.72 1.47 1.35L5.41 20z\"/>\n",
              "  </svg>\n",
              "      </button>\n",
              "      \n",
              "  <style>\n",
              "    .colab-df-container {\n",
              "      display:flex;\n",
              "      flex-wrap:wrap;\n",
              "      gap: 12px;\n",
              "    }\n",
              "\n",
              "    .colab-df-convert {\n",
              "      background-color: #E8F0FE;\n",
              "      border: none;\n",
              "      border-radius: 50%;\n",
              "      cursor: pointer;\n",
              "      display: none;\n",
              "      fill: #1967D2;\n",
              "      height: 32px;\n",
              "      padding: 0 0 0 0;\n",
              "      width: 32px;\n",
              "    }\n",
              "\n",
              "    .colab-df-convert:hover {\n",
              "      background-color: #E2EBFA;\n",
              "      box-shadow: 0px 1px 2px rgba(60, 64, 67, 0.3), 0px 1px 3px 1px rgba(60, 64, 67, 0.15);\n",
              "      fill: #174EA6;\n",
              "    }\n",
              "\n",
              "    [theme=dark] .colab-df-convert {\n",
              "      background-color: #3B4455;\n",
              "      fill: #D2E3FC;\n",
              "    }\n",
              "\n",
              "    [theme=dark] .colab-df-convert:hover {\n",
              "      background-color: #434B5C;\n",
              "      box-shadow: 0px 1px 3px 1px rgba(0, 0, 0, 0.15);\n",
              "      filter: drop-shadow(0px 1px 2px rgba(0, 0, 0, 0.3));\n",
              "      fill: #FFFFFF;\n",
              "    }\n",
              "  </style>\n",
              "\n",
              "      <script>\n",
              "        const buttonEl =\n",
              "          document.querySelector('#df-4f7c743b-2e2a-4368-ac7e-8f6c637b28b6 button.colab-df-convert');\n",
              "        buttonEl.style.display =\n",
              "          google.colab.kernel.accessAllowed ? 'block' : 'none';\n",
              "\n",
              "        async function convertToInteractive(key) {\n",
              "          const element = document.querySelector('#df-4f7c743b-2e2a-4368-ac7e-8f6c637b28b6');\n",
              "          const dataTable =\n",
              "            await google.colab.kernel.invokeFunction('convertToInteractive',\n",
              "                                                     [key], {});\n",
              "          if (!dataTable) return;\n",
              "\n",
              "          const docLinkHtml = 'Like what you see? Visit the ' +\n",
              "            '<a target=\"_blank\" href=https://colab.research.google.com/notebooks/data_table.ipynb>data table notebook</a>'\n",
              "            + ' to learn more about interactive tables.';\n",
              "          element.innerHTML = '';\n",
              "          dataTable['output_type'] = 'display_data';\n",
              "          await google.colab.output.renderOutput(dataTable, element);\n",
              "          const docLink = document.createElement('div');\n",
              "          docLink.innerHTML = docLinkHtml;\n",
              "          element.appendChild(docLink);\n",
              "        }\n",
              "      </script>\n",
              "    </div>\n",
              "  </div>\n",
              "  "
            ]
          },
          "metadata": {}
        }
      ]
    },
    {
      "cell_type": "markdown",
      "source": [
        "From the last row of the above table we can get the correlation of all the features with target variable.\n",
        "\n"
      ],
      "metadata": {
        "id": "KBDjoBiS5o_Y"
      }
    },
    {
      "cell_type": "code",
      "source": [
        "# visualize using heat map\n",
        "sns.heatmap(correlation_matrix)"
      ],
      "metadata": {
        "colab": {
          "base_uri": "https://localhost:8080/",
          "height": 394
        },
        "id": "1uFEGxGLTBz8",
        "outputId": "77432ffb-b5f1-4b73-fee4-faa0c9a38de1"
      },
      "execution_count": 8,
      "outputs": [
        {
          "output_type": "execute_result",
          "data": {
            "text/plain": [
              "<matplotlib.axes._subplots.AxesSubplot at 0x7f7494656450>"
            ]
          },
          "metadata": {},
          "execution_count": 8
        },
        {
          "output_type": "display_data",
          "data": {
            "text/plain": [
              "<Figure size 432x288 with 2 Axes>"
            ],
            "image/png": "[encoded data removed]"
          },
          "metadata": {
            "needs_background": "light"
          }
        }
      ]
    },
    {
      "cell_type": "markdown",
      "source": [
        "*   Features with high correlation are more linearly dependent and hence have almost the same effect on the dependent variable. So, when two features have high correlation, we can drop one of those.\n",
        "*  Since we don't have any two predictors with correlation >= 0.8, we have kept all 6 of them."
      ],
      "metadata": {
        "id": "ZAHFKxR0-4U2"
      }
    },
    {
      "cell_type": "markdown",
      "source": [
        "### Boxplot analysis of Predictor variables."
      ],
      "metadata": {
        "id": "DwDBxPG7elEV"
      }
    },
    {
      "cell_type": "code",
      "source": [
        "# box plots for six predictive attributes\n",
        "fig, axes = plt.subplots(1, 6, figsize=(18, 8))\n",
        "fig.suptitle('Box plots for six predictive attributes')\n",
        "fig.subplots_adjust(hspace=5, wspace=2)  \n",
        "sns.boxplot(ax=axes[0], data=input_df, y='Machine_cycle_time')\n",
        "sns.boxplot(ax=axes[1], data=input_df, y='Max_main_mem')\n",
        "sns.boxplot(ax=axes[2], data=input_df, y='Min_main_mem')\n",
        "sns.boxplot(ax=axes[3], data=input_df, y='Cache_mem')\n",
        "sns.boxplot(ax=axes[4], data=input_df, y='Min_channels')\n",
        "sns.boxplot(ax=axes[5], data=input_df, y='Max_channels')"
      ],
      "metadata": {
        "id": "RZu2e6__GcfT",
        "outputId": "3550de0c-b8e7-4abc-8ffc-e0079e9ebc9f",
        "colab": {
          "base_uri": "https://localhost:8080/",
          "height": 544
        }
      },
      "execution_count": 9,
      "outputs": [
        {
          "output_type": "execute_result",
          "data": {
            "text/plain": [
              "<matplotlib.axes._subplots.AxesSubplot at 0x7f74909b7290>"
            ]
          },
          "metadata": {},
          "execution_count": 9
        },
        {
          "output_type": "display_data",
          "data": {
            "text/plain": [
              "<Figure size 1296x576 with 6 Axes>"
            ],
            "image/png": "[encoded data removed]"
          },
          "metadata": {
            "needs_background": "light"
          }
        }
      ]
    },
    {
      "cell_type": "markdown",
      "source": [
        "### Input Dataframe creation"
      ],
      "metadata": {
        "id": "NfTahjGSF53E"
      }
    },
    {
      "cell_type": "code",
      "source": [
        "#Creating 2 dataframes - x_df with 6 predictive attributes, y_df with goal attribute\n",
        "x_df = input_df[['Machine_cycle_time', 'Min_main_mem', 'Max_main_mem', 'Cache_mem', 'Min_channels', 'Max_channels']]\n",
        "y_df = input_df['Published_performance']"
      ],
      "metadata": {
        "id": "frqULyqpii1V"
      },
      "execution_count": 10,
      "outputs": []
    },
    {
      "cell_type": "markdown",
      "source": [
        "### Train - Test Split"
      ],
      "metadata": {
        "id": "XHtnoi85elBx"
      }
    },
    {
      "cell_type": "code",
      "source": [
        "# Splitting the training and testing data from cleaned data\n",
        "x_train_set, x_test_set,y_train_set,y_test_set = train_test_split(x_df,y_df, train_size=0.9)\n",
        "\n",
        "# Show the Training and Testing Data\n",
        "print('Shape of training feature:', x_train_set.shape)\n",
        "print('Shape of testing feature:', x_test_set.shape)\n",
        "print('Shape of training label:', y_train_set.shape)\n",
        "print('Shape of training label:', y_test_set.shape)"
      ],
      "metadata": {
        "id": "9Yt9Ztubeo9U",
        "outputId": "017479f6-b7ef-4d74-82c0-c56b9feb85ed",
        "colab": {
          "base_uri": "https://localhost:8080/"
        }
      },
      "execution_count": 11,
      "outputs": [
        {
          "output_type": "stream",
          "name": "stdout",
          "text": [
            "Shape of training feature: (188, 6)\n",
            "Shape of testing feature: (21, 6)\n",
            "Shape of training label: (188,)\n",
            "Shape of training label: (21,)\n"
          ]
        }
      ]
    },
    {
      "cell_type": "markdown",
      "source": [
        "###Plotting each feature vs. the target"
      ],
      "metadata": {
        "id": "eZgWI-AAcMFD"
      }
    },
    {
      "cell_type": "code",
      "source": [
        "X_features = ['Machine_cycle_time', 'Min_main_mem', 'Max_main_mem', 'Cache_mem', 'Min_channels', 'Max_channels']\n",
        "x_numpy_arr = x_df.to_numpy()\n",
        "y_numpy_arr = y_df.to_numpy()\n",
        "fig,ax=plt.subplots(1, 6, figsize=(18, 4), sharey=True)\n",
        "for i in range(len(ax)):\n",
        "    ax[i].scatter(x_numpy_arr[:,i],y_numpy_arr)\n",
        "    ax[i].set_xlabel(X_features[i])\n",
        "ax[0].set_ylabel(\"Published performance\")\n",
        "plt.show()\n"
      ],
      "metadata": {
        "id": "Taag_4t5cLAv",
        "outputId": "88a9f7b8-be96-462b-956b-d9024a143cfd",
        "colab": {
          "base_uri": "https://localhost:8080/",
          "height": 283
        }
      },
      "execution_count": 12,
      "outputs": [
        {
          "output_type": "display_data",
          "data": {
            "text/plain": [
              "<Figure size 1296x288 with 6 Axes>"
            ],
            "image/png": "[encoded data removed]"
          },
          "metadata": {
            "needs_background": "light"
          }
        }
      ]
    },
    {
      "cell_type": "markdown",
      "source": [
        "###Feature Scaling"
      ],
      "metadata": {
        "id": "BDw5AvrDwulL"
      }
    },
    {
      "cell_type": "code",
      "source": [
        "display(x_train_set.head())"
      ],
      "metadata": {
        "id": "K6iPO1xighQh",
        "outputId": "252399aa-a5b5-4981-c135-7fda2856ad58",
        "colab": {
          "base_uri": "https://localhost:8080/",
          "height": 206
        }
      },
      "execution_count": 13,
      "outputs": [
        {
          "output_type": "display_data",
          "data": {
            "text/plain": [
              "     Machine_cycle_time  Min_main_mem  Max_main_mem  Cache_mem  Min_channels  \\\n",
              "163                  56          4000         12000          0             1   \n",
              "36                   50           500          2000          8             1   \n",
              "80                  330          1000          3000          0             2   \n",
              "33                   50          2620         10480         30            12   \n",
              "17                  143           512          5000          0             7   \n",
              "\n",
              "     Max_channels  \n",
              "163             8  \n",
              "36              4  \n",
              "80              4  \n",
              "33             24  \n",
              "17             32  "
            ],
            "text/html": [
              "\n",
              "  <div id=\"df-f7b1192d-ec34-430f-863f-97a44f181542\">\n",
              "    <div class=\"colab-df-container\">\n",
              "      <div>\n",
              "<style scoped>\n",
              "    .dataframe tbody tr th:only-of-type {\n",
              "        vertical-align: middle;\n",
              "    }\n",
              "\n",
              "    .dataframe tbody tr th {\n",
              "        vertical-align: top;\n",
              "    }\n",
              "\n",
              "    .dataframe thead th {\n",
              "        text-align: right;\n",
              "    }\n",
              "</style>\n",
              "<table border=\"1\" class=\"dataframe\">\n",
              "  <thead>\n",
              "    <tr style=\"text-align: right;\">\n",
              "      <th></th>\n",
              "      <th>Machine_cycle_time</th>\n",
              "      <th>Min_main_mem</th>\n",
              "      <th>Max_main_mem</th>\n",
              "      <th>Cache_mem</th>\n",
              "      <th>Min_channels</th>\n",
              "      <th>Max_channels</th>\n",
              "    </tr>\n",
              "  </thead>\n",
              "  <tbody>\n",
              "    <tr>\n",
              "      <th>163</th>\n",
              "      <td>56</td>\n",
              "      <td>4000</td>\n",
              "      <td>12000</td>\n",
              "      <td>0</td>\n",
              "      <td>1</td>\n",
              "      <td>8</td>\n",
              "    </tr>\n",
              "    <tr>\n",
              "      <th>36</th>\n",
              "      <td>50</td>\n",
              "      <td>500</td>\n",
              "      <td>2000</td>\n",
              "      <td>8</td>\n",
              "      <td>1</td>\n",
              "      <td>4</td>\n",
              "    </tr>\n",
              "    <tr>\n",
              "      <th>80</th>\n",
              "      <td>330</td>\n",
              "      <td>1000</td>\n",
              "      <td>3000</td>\n",
              "      <td>0</td>\n",
              "      <td>2</td>\n",
              "      <td>4</td>\n",
              "    </tr>\n",
              "    <tr>\n",
              "      <th>33</th>\n",
              "      <td>50</td>\n",
              "      <td>2620</td>\n",
              "      <td>10480</td>\n",
              "      <td>30</td>\n",
              "      <td>12</td>\n",
              "      <td>24</td>\n",
              "    </tr>\n",
              "    <tr>\n",
              "      <th>17</th>\n",
              "      <td>143</td>\n",
              "      <td>512</td>\n",
              "      <td>5000</td>\n",
              "      <td>0</td>\n",
              "      <td>7</td>\n",
              "      <td>32</td>\n",
              "    </tr>\n",
              "  </tbody>\n",
              "</table>\n",
              "</div>\n",
              "      <button class=\"colab-df-convert\" onclick=\"convertToInteractive('df-f7b1192d-ec34-430f-863f-97a44f181542')\"\n",
              "              title=\"Convert this dataframe to an interactive table.\"\n",
              "              style=\"display:none;\">\n",
              "        \n",
              "  <svg xmlns=\"http://www.w3.org/2000/svg\" height=\"24px\"viewBox=\"0 0 24 24\"\n",
              "       width=\"24px\">\n",
              "    <path d=\"M0 0h24v24H0V0z\" fill=\"none\"/>\n",
              "    <path d=\"M18.56 5.44l.94 2.06.94-2.06 2.06-.94-2.06-.94-.94-2.06-.94 2.06-2.06.94zm-11 1L8.5 8.5l.94-2.06 2.06-.94-2.06-.94L8.5 2.5l-.94 2.06-2.06.94zm10 10l.94 2.06.94-2.06 2.06-.94-2.06-.94-.94-2.06-.94 2.06-2.06.94z\"/><path d=\"M17.41 7.96l-1.37-1.37c-.4-.4-.92-.59-1.43-.59-.52 0-1.04.2-1.43.59L10.3 9.45l-7.72 7.72c-.78.78-.78 2.05 0 2.83L4 21.41c.39.39.9.59 1.41.59.51 0 1.02-.2 1.41-.59l7.78-7.78 2.81-2.81c.8-.78.8-2.07 0-2.86zM5.41 20L4 18.59l7.72-7.72 1.47 1.35L5.41 20z\"/>\n",
              "  </svg>\n",
              "      </button>\n",
              "      \n",
              "  <style>\n",
              "    .colab-df-container {\n",
              "      display:flex;\n",
              "      flex-wrap:wrap;\n",
              "      gap: 12px;\n",
              "    }\n",
              "\n",
              "    .colab-df-convert {\n",
              "      background-color: #E8F0FE;\n",
              "      border: none;\n",
              "      border-radius: 50%;\n",
              "      cursor: pointer;\n",
              "      display: none;\n",
              "      fill: #1967D2;\n",
              "      height: 32px;\n",
              "      padding: 0 0 0 0;\n",
              "      width: 32px;\n",
              "    }\n",
              "\n",
              "    .colab-df-convert:hover {\n",
              "      background-color: #E2EBFA;\n",
              "      box-shadow: 0px 1px 2px rgba(60, 64, 67, 0.3), 0px 1px 3px 1px rgba(60, 64, 67, 0.15);\n",
              "      fill: #174EA6;\n",
              "    }\n",
              "\n",
              "    [theme=dark] .colab-df-convert {\n",
              "      background-color: #3B4455;\n",
              "      fill: #D2E3FC;\n",
              "    }\n",
              "\n",
              "    [theme=dark] .colab-df-convert:hover {\n",
              "      background-color: #434B5C;\n",
              "      box-shadow: 0px 1px 3px 1px rgba(0, 0, 0, 0.15);\n",
              "      filter: drop-shadow(0px 1px 2px rgba(0, 0, 0, 0.3));\n",
              "      fill: #FFFFFF;\n",
              "    }\n",
              "  </style>\n",
              "\n",
              "      <script>\n",
              "        const buttonEl =\n",
              "          document.querySelector('#df-f7b1192d-ec34-430f-863f-97a44f181542 button.colab-df-convert');\n",
              "        buttonEl.style.display =\n",
              "          google.colab.kernel.accessAllowed ? 'block' : 'none';\n",
              "\n",
              "        async function convertToInteractive(key) {\n",
              "          const element = document.querySelector('#df-f7b1192d-ec34-430f-863f-97a44f181542');\n",
              "          const dataTable =\n",
              "            await google.colab.kernel.invokeFunction('convertToInteractive',\n",
              "                                                     [key], {});\n",
              "          if (!dataTable) return;\n",
              "\n",
              "          const docLinkHtml = 'Like what you see? Visit the ' +\n",
              "            '<a target=\"_blank\" href=https://colab.research.google.com/notebooks/data_table.ipynb>data table notebook</a>'\n",
              "            + ' to learn more about interactive tables.';\n",
              "          element.innerHTML = '';\n",
              "          dataTable['output_type'] = 'display_data';\n",
              "          await google.colab.output.renderOutput(dataTable, element);\n",
              "          const docLink = document.createElement('div');\n",
              "          docLink.innerHTML = docLinkHtml;\n",
              "          element.appendChild(docLink);\n",
              "        }\n",
              "      </script>\n",
              "    </div>\n",
              "  </div>\n",
              "  "
            ]
          },
          "metadata": {}
        }
      ]
    },
    {
      "cell_type": "code",
      "source": [
        "# Function to compute z scrore normalized values for input data\n",
        "def zscore_normalize_features(X):\n",
        "    # find the mean of each column/feature\n",
        "    mu     = np.mean(X, axis=0)                 # mu will have shape (n,)\n",
        "    # find the standard deviation of each column/feature\n",
        "    sigma  = np.std(X, axis=0)                  # sigma will have shape (n,)\n",
        "    # element-wise, subtract mu for that column from each example, divide by std for that column\n",
        "    X_norm = (X - mu) / sigma      \n",
        "\n",
        "    return (X_norm, mu, sigma)\n",
        " \n",
        "#check our work\n",
        "#from sklearn.preprocessing import scale\n",
        "#x_sklearn_scale = scale(x_train_set, axis=0, with_mean=True, with_std=True, copy=True)"
      ],
      "metadata": {
        "id": "5pjNidfEiuDd"
      },
      "execution_count": 14,
      "outputs": []
    },
    {
      "cell_type": "code",
      "source": [
        "# Normalizing the training data and storing mu and sigma for later use on testing data\n",
        "X_train, mu_norm, sigma_norm = zscore_normalize_features(x_train_set)\n",
        "scaler = RobustScaler()\n",
        "X_train_1 = scaler.fit_transform(x_train_set)\n",
        "X_test_1 = scaler.transform(x_test_set)\n",
        "display(X_train_1)"
      ],
      "metadata": {
        "id": "yS0t9eCElEhH",
        "outputId": "90669aa3-4ee9-47e6-effd-e32d7524bdc1",
        "colab": {
          "base_uri": "https://localhost:8080/",
          "height": 243
        }
      },
      "execution_count": 15,
      "outputs": [
        {
          "output_type": "display_data",
          "data": {
            "text/plain": [
              "array([[-0.28421053,  0.61881188,  0.33333333, -0.25      , -0.4       ,\n",
              "         0.        ],\n",
              "       [-0.31578947, -0.46410891, -0.5       ,  0.        , -0.4       ,\n",
              "        -0.21052632],\n",
              "       [ 1.15789474, -0.30940594, -0.41666667, -0.25      , -0.2       ,\n",
              "        -0.21052632],\n",
              "       ...,\n",
              "       [ 1.        , -0.38118812, -0.29166667, -0.25      , -0.4       ,\n",
              "         0.84210526],\n",
              "       [ 5.21052632, -0.38118812, -0.5       , -0.25      , -0.4       ,\n",
              "        -0.36842105],\n",
              "       [ 1.10526316, -0.46039604,  0.        , -0.125     , -0.4       ,\n",
              "        -0.15789474]])"
            ]
          },
          "metadata": {}
        }
      ]
    },
    {
      "cell_type": "code",
      "source": [
        "#Functions to draw histogram of original and normalized data\n",
        "def norm_plot(ax, data):\n",
        "    scale = (np.max(data) - np.min(data)) * 0.2\n",
        "    x = np.linspace(np.min(data) - scale, np.max(data) + scale, 50)\n",
        "    _, bins, _ = ax.hist(data, x, color='xkcd:azure')\n",
        "    mu = np.mean(data)\n",
        "    std = np.std(data)\n",
        "    dist = stats.norm.pdf(bins, loc=mu, scale=std)\n",
        "    axr = ax.twinx()\n",
        "    axr.plot(bins, dist, color='orangered', lw=2)\n",
        "    axr.set_ylim(bottom=0)\n",
        "    axr.axis('off')\n",
        "\n",
        "def show_histogram(X_f,X_p,X_p_n):\n",
        "  fig,ax=plt.subplots(1, 6, figsize=(40, 5))\n",
        "  for i in range(len(ax)):\n",
        "      norm_plot(ax[i],X_p[:,i],)\n",
        "      ax[i].set_xlabel(X_f[i])\n",
        "  ax[0].set_ylabel(\"count\");\n",
        "  fig.suptitle(\"distribution of features before normalization\")\n",
        "  fig.savefig('before_normalization.jpg')\n",
        "  plt.show()\n",
        "  fig,ax=plt.subplots(1, 6,figsize=(40,5))\n",
        "  for i in range(len(ax)):\n",
        "      norm_plot(ax[i],X_p_n[:,i],)\n",
        "      ax[i].set_xlabel(X_f[i])\n",
        "  ax[0].set_ylabel(\"count\"); \n",
        "  fig.suptitle(\"distribution of features after normalization\")\n",
        "  fig.savefig('after_normalization.jpg')\n",
        "  plt.show()\n",
        "\n",
        "#Data Distribution - Histogram Analysis\n",
        "X_features = ['Machine_cycle_time', 'Min_main_mem', 'Max_main_mem', 'Cache_mem', 'Min_channels', 'Max_channels']\n",
        "show_histogram(X_features[:],x_train_set.to_numpy(),X_train.to_numpy())"
      ],
      "metadata": {
        "id": "eRW0eRceLhs6",
        "outputId": "f9e68f85-7846-4cc0-af05-7ad921684b74",
        "colab": {
          "base_uri": "https://localhost:8080/",
          "height": 402
        }
      },
      "execution_count": 16,
      "outputs": [
        {
          "output_type": "display_data",
          "data": {
            "text/plain": [
              "<Figure size 2880x360 with 12 Axes>"
            ],
            "image/png": "[encoded data removed]"
          },
          "metadata": {
            "needs_background": "light"
          }
        },
        {
          "output_type": "display_data",
          "data": {
            "text/plain": [
              "<Figure size 2880x360 with 12 Axes>"
            ],
            "image/png": "[encoded data removed]"
          },
          "metadata": {
            "needs_background": "light"
          }
        }
      ]
    },
    {
      "cell_type": "markdown",
      "source": [
        "### Observations of Exploratory data analysis (EDA)\n",
        "\n",
        "Though our EDA might indicate possible presence of outliers, there are two reasons why we have concluded that there are no univariate outliers. \n",
        "\n",
        "*  Firstly even though the plots suggest possible outliers, analysis of the data clearly indicates that when one factor such as mmin is increased it would lead to increase in performance but variation in other factor such as increase in machine cyle time reduces the performance, in a way balancing the earlier and the effects make logical sense. Furthermore manufacturers would not spend time and money to create a CPU with specification that are irrelevant, illogical or widely abnormal.\n",
        "\n",
        "*  Secondly the data set has deliberately selected 209 entries that represent a wide range of specification and if we deleted records solely based on our EDA, we would be limiting the prediction performance of our regression model.\n",
        "\n",
        "\n",
        "Hence we are not removing these outliers."
      ],
      "metadata": {
        "id": "kd-ftAhUHNJj"
      }
    },
    {
      "cell_type": "markdown",
      "source": [
        "## Modelling"
      ],
      "metadata": {
        "id": "wfH3rVvqkgb3"
      }
    },
    {
      "cell_type": "markdown",
      "source": [
        "### **Linear Regresssion**"
      ],
      "metadata": {
        "id": "sVjVz_KyN5LD"
      }
    },
    {
      "cell_type": "markdown",
      "source": [
        "#### Now we will fit the linear regression parameters $(w,b)$ to our dataset.\n",
        "The model function for linear regression, which is a function that maps from `x` (input features) to `y` (Estimated CPU performance) is represented as \n",
        "#### $$ \\hat y = w_0 x_0 + w_1 x_1 + w_2 x_2 + w_3 x_3 + w_4 x_4 + w_5 x_5 + b + \\epsilon \\\\ $$\n",
        "\n",
        "##### $$ Estimated\\_Performance = w_0(Max\\_main\\_mem) + w_1(Min\\_main\\_mem) + w_2(Cache\\_mem) + w_3(Max\\_channels) + w_4(Min\\_channels) + w_5(Machine\\_cycle\\_time) + b + \\epsilon \\\\ $$\n",
        "\n",
        "This equation gives us a line that fits the data and performs better that average line.\n",
        "\n",
        "where,\n",
        "$$ b \\\\ $$ is intercept, \n",
        "$$ w_0, .. w_5 \\\\ $$ are all coefficients,\n",
        "$$ \\epsilon \\\\ $$ is error or residual. \n",
        "\n",
        "To train a linear regression model, you want to find the best $(w,b)$ parameters that fit your dataset. To compare how one choice of $(w,b)$ is better or worse than another choice, you can evaluate it with a cost function $J(w,b)$. The cost function J, calculates the error between the expected value of `y` and the value of `ŷ` calculated or predicted by our model $J$ is a function of $(w,b)$. That is, the value of the cost $J(w,b)$ depends on the value of $(w,b)$. The choice of $(w,b)$ that fits your data the best is the one that has the smallest cost $J(w,b)$.\n",
        "To find the values $(w,b)$ that gets the smallest possible cost $J(w,b)$, you can use a method called **gradient descent**. \n",
        "\n",
        "With each step of gradient descent, your parameters $(w,b)$ come closer to the optimal values that will achieve the lowest cost $J(w,b)$. The trained linear regression model can then take the input features `x` (machine cycle time, minimum main memory, maximum main memory, cache memory, minimum channels, maximum channels) and output a prediction `ŷ` (estimated CPU performance)."
      ],
      "metadata": {
        "id": "VxmCJHu_kywv"
      }
    },
    {
      "cell_type": "markdown",
      "source": [
        "### **Compute Cost**"
      ],
      "metadata": {
        "id": "deJ3gqHcN-YC"
      }
    },
    {
      "cell_type": "markdown",
      "source": [
        "#### Gradient descent involves repeated steps to adjust the value of your parameter $(w,b)$ to gradually get a smaller and smaller cost $J(w,b)$.\n",
        "- At each step of gradient descent, it will be helpful for you to monitor your progress by computing the cost $J(w,b)$ as $(w,b)$ gets updated. \n",
        "- In this section, you will implement a function to calculate $J(w,b)$ so that you can check the progress of your gradient descent implementation.\n",
        "\n",
        "#### Cost function\n",
        "As you may recall from the lecture, for one variable, the cost function for linear regression $J(w,b)$ is defined as\n",
        "\n",
        "$$J(w,b) = \\frac{1}{2m} \\sum\\limits_{i = 0}^{m-1} (f_{w,b}(x^{(i)}) - y^{(i)})^2$$ \n",
        "\n",
        "- we can think of $f_{w,b}(x^{(i)})$ as the model's prediction of as the model's prediction of our CPU's performance, as opposed to $y^{(i)}$, which is the actual performance that is recorded in the data.\n",
        "- $m$ is the number of training examples in the dataset"
      ],
      "metadata": {
        "id": "ES6gxM6ZNGoI"
      }
    },
    {
      "cell_type": "code",
      "source": [
        "# Function to compute the cost function for linear regression\n",
        "def compute_cost(X, y, w, b): \n",
        "    m = X.shape[0]\n",
        "    cost = 0.0\n",
        "    for i in range(m):                                \n",
        "        f_wb_i = np.dot(X[i], w) + b           #(n,)(n,) = scalar (see np.dot)\n",
        "        cost = cost + (f_wb_i - y[i])**2       #scalar\n",
        "    cost = cost / (2 * m)                      #scalar    \n",
        "    return cost"
      ],
      "metadata": {
        "id": "KgOl1ALWOHgQ"
      },
      "execution_count": 17,
      "outputs": []
    },
    {
      "cell_type": "code",
      "source": [
        "# Compute cost with some initial values for paramaters w, b\n",
        "initial_w = np.array([ -0.39133535, 0.75376741, 0.36032453, 0.42131618, 0.12884866, 0.56482614])\n",
        "initial_b = 1\n",
        "\n",
        "cost = compute_cost(X_train_1, y_train_set.to_numpy(), initial_w, initial_b)\n",
        "print(type(cost))\n",
        "print(f'Cost at initial w: {cost:.3f}')"
      ],
      "metadata": {
        "id": "FCnv3_qZPcMO",
        "outputId": "32dc8ad1-0522-4729-a67e-a79e11e6845e",
        "colab": {
          "base_uri": "https://localhost:8080/"
        }
      },
      "execution_count": 18,
      "outputs": [
        {
          "output_type": "stream",
          "name": "stdout",
          "text": [
            "<class 'numpy.float64'>\n",
            "Cost at initial w: 12330.098\n"
          ]
        }
      ]
    },
    {
      "cell_type": "code",
      "source": [
        "#Computes the gradient for linear regression \n",
        "def compute_gradient(X, y, w, b): \n",
        "    m,n = X.shape           #(number of examples, number of features)\n",
        "    dj_dw = np.zeros((n,))\n",
        "    dj_db = 0.\n",
        "\n",
        "    for i in range(m):                             \n",
        "        err = (np.dot(X[i], w) + b) - y[i]   \n",
        "        for j in range(n):                         \n",
        "            dj_dw[j] = dj_dw[j] + err * X[i, j]    \n",
        "        dj_db = dj_db + err                        \n",
        "    dj_dw = dj_dw / m                                \n",
        "    dj_db = dj_db / m                                \n",
        "        \n",
        "    return dj_db, dj_dw"
      ],
      "metadata": {
        "id": "97LrYbaQRzOB"
      },
      "execution_count": 19,
      "outputs": []
    },
    {
      "cell_type": "code",
      "source": [
        "#Compute and display gradient \n",
        "tmp_dj_db, tmp_dj_dw = compute_gradient(X_train_1, y_train_set.to_numpy(), initial_w, initial_b)\n",
        "print(f'dj_db at initial w,b: {tmp_dj_db}')\n",
        "print(f'dj_dw at initial w,b: \\n {tmp_dj_dw}')"
      ],
      "metadata": {
        "id": "9IdBnHu3SZYR",
        "outputId": "2dc96c72-ed5c-4718-9d68-c4dbe1a66b72",
        "colab": {
          "base_uri": "https://localhost:8080/"
        }
      },
      "execution_count": 20,
      "outputs": [
        {
          "output_type": "stream",
          "name": "stdout",
          "text": [
            "dj_db at initial w,b: -95.76946426833508\n",
            "dj_dw at initial w,b: \n",
            " [   9.79433506 -119.48134522 -121.44720996 -156.46508232 -133.46289343\n",
            " -132.91566863]\n"
          ]
        }
      ]
    },
    {
      "cell_type": "code",
      "source": [
        "#Performs batch gradient descent to learn theta. Updates theta by taking num_iters gradient steps with learning rate alpha\n",
        "def gradient_descent(X, y, w_in, b_in, cost_function, gradient_function, alpha, num_iters): \n",
        "    # An array to store cost J and w's at each iteration primarily for graphing later\n",
        "    J_history = []\n",
        "    w = copy.deepcopy(w_in)  #avoid modifying global w within function\n",
        "    b = b_in\n",
        "    \n",
        "    for i in range(num_iters):\n",
        "\n",
        "        # Calculate the gradient and update the parameters\n",
        "        dj_db,dj_dw = gradient_function(X, y, w, b)   ##None\n",
        "\n",
        "        # Update Parameters using w, b, alpha and gradient\n",
        "        w = w - alpha * dj_dw               ##None\n",
        "        b = b - alpha * dj_db               ##None\n",
        "      \n",
        "        # Save cost J at each iteration\n",
        "        if i<100000:      # prevent resource exhaustion \n",
        "            J_history.append( cost_function(X, y, w, b))\n",
        "\n",
        "        # Print cost every at intervals 10 times or as many iterations if < 10\n",
        "        if i% math.ceil(num_iters / 10) == 0:\n",
        "            print(f\"Iteration {i:4d}: Cost {J_history[-1]:8.2f}   \")\n",
        "        \n",
        "    return w, b, J_history #return final w,b and J history for graphing"
      ],
      "metadata": {
        "id": "zH5TpXmdSrvV"
      },
      "execution_count": 21,
      "outputs": []
    },
    {
      "cell_type": "code",
      "source": [
        "# initialize parameters\n",
        "initial_w = np.zeros_like(initial_w)\n",
        "initial_b = 0.0\n",
        "print(initial_w, initial_b)\n",
        "# some gradient descent settings\n",
        "iterations = 30000\n",
        "alpha = 3.0e-3\n",
        "# run gradient descent \n",
        "y_train = y_train_set.to_numpy()\n",
        "x_train = X_train_1\n",
        "w_final, b_final, J_hist = gradient_descent(x_train, y_train, initial_w, initial_b,\n",
        "                                                    compute_cost, compute_gradient, \n",
        "                                                    alpha, iterations)\n",
        "print(f\"b,w found by gradient descent: {b_final:0.2f},{w_final} \")\n",
        "m,_ = X_train.shape\n",
        "fin_y = []\n",
        "for i in range(m):\n",
        "    y_cap = np.dot(x_train[i], w_final) + b_final\n",
        "    print(f\"prediction: {y_cap:0.2f}, target value: {y_train[i]}\")\n",
        "    fin_y.append(y_cap)"
      ],
      "metadata": {
        "id": "ujOXp-6LTEcA",
        "outputId": "03d276fa-ae3b-47a5-805c-8f3263418718",
        "colab": {
          "base_uri": "https://localhost:8080/"
        }
      },
      "execution_count": 22,
      "outputs": [
        {
          "output_type": "stream",
          "name": "stdout",
          "text": [
            "[0. 0. 0. 0. 0. 0.] 0.0\n",
            "Iteration    0: Cost 12421.76   \n",
            "Iteration 3000: Cost  1206.44   \n",
            "Iteration 6000: Cost  1205.30   \n",
            "Iteration 9000: Cost  1205.26   \n",
            "Iteration 12000: Cost  1205.25   \n",
            "Iteration 15000: Cost  1205.25   \n",
            "Iteration 18000: Cost  1205.25   \n",
            "Iteration 21000: Cost  1205.25   \n",
            "Iteration 24000: Cost  1205.25   \n",
            "Iteration 27000: Cost  1205.25   \n",
            "b,w found by gradient descent: 48.29,[ 5.36479035 38.97533823 60.08889691 23.01269447  4.15800122 14.73706624] \n",
            "prediction: 83.50, target value: 42\n",
            "prediction: -6.30, target value: 20\n",
            "prediction: 7.72, target value: 16\n",
            "prediction: 102.21, target value: 63\n",
            "prediction: 32.45, target value: 28\n",
            "prediction: 186.73, target value: 208\n",
            "prediction: 4.38, target value: 16\n",
            "prediction: 8.23, target value: 30\n",
            "prediction: 55.70, target value: 60\n",
            "prediction: 5.53, target value: 18\n",
            "prediction: 380.90, target value: 397\n",
            "prediction: -2.60, target value: 32\n",
            "prediction: 295.69, target value: 277\n",
            "prediction: 132.03, target value: 130\n",
            "prediction: 9.91, target value: 40\n",
            "prediction: 85.11, target value: 52\n",
            "prediction: 41.69, target value: 50\n",
            "prediction: 43.38, target value: 56\n",
            "prediction: 14.21, target value: 33\n",
            "prediction: 8.32, target value: 19\n",
            "prediction: 27.23, target value: 44\n",
            "prediction: 52.59, target value: 33\n",
            "prediction: 14.39, target value: 77\n",
            "prediction: 194.22, target value: 134\n",
            "prediction: 186.35, target value: 214\n",
            "prediction: 186.04, target value: 132\n",
            "prediction: 26.70, target value: 36\n",
            "prediction: 58.69, target value: 33\n",
            "prediction: 29.96, target value: 34\n",
            "prediction: 49.21, target value: 30\n",
            "prediction: 23.18, target value: 12\n",
            "prediction: 5.71, target value: 17\n",
            "prediction: 3.43, target value: 36\n",
            "prediction: 52.32, target value: 46\n",
            "prediction: 23.01, target value: 45\n",
            "prediction: 92.72, target value: 76\n",
            "prediction: 9.24, target value: 31\n",
            "prediction: 21.81, target value: 29\n",
            "prediction: 28.13, target value: 20\n",
            "prediction: 213.41, target value: 120\n",
            "prediction: 106.86, target value: 65\n",
            "prediction: -12.56, target value: 17\n",
            "prediction: 391.77, target value: 465\n",
            "prediction: 111.54, target value: 132\n",
            "prediction: 49.36, target value: 67\n",
            "prediction: 11.42, target value: 11\n",
            "prediction: 103.53, target value: 46\n",
            "prediction: 31.23, target value: 62\n",
            "prediction: 149.24, target value: 144\n",
            "prediction: 22.72, target value: 32\n",
            "prediction: 12.08, target value: 27\n",
            "prediction: 118.98, target value: 274\n",
            "prediction: 161.49, target value: 38\n",
            "prediction: 295.63, target value: 326\n",
            "prediction: 8.57, target value: 50\n",
            "prediction: 599.88, target value: 915\n",
            "prediction: 36.65, target value: 32\n",
            "prediction: 69.18, target value: 109\n",
            "prediction: 249.27, target value: 277\n",
            "prediction: 404.54, target value: 489\n",
            "prediction: 93.81, target value: 75\n",
            "prediction: 73.55, target value: 50\n",
            "prediction: 36.23, target value: 20\n",
            "prediction: 162.95, target value: 185\n",
            "prediction: 32.62, target value: 24\n",
            "prediction: 5.53, target value: 11\n",
            "prediction: 194.74, target value: 114\n",
            "prediction: 86.21, target value: 92\n",
            "prediction: 162.03, target value: 143\n",
            "prediction: 63.47, target value: 34\n",
            "prediction: 5.71, target value: 22\n",
            "prediction: 292.42, target value: 248\n",
            "prediction: 36.75, target value: 35\n",
            "prediction: 72.30, target value: 50\n",
            "prediction: 61.83, target value: 62\n",
            "prediction: 42.61, target value: 71\n",
            "prediction: 29.32, target value: 18\n",
            "prediction: 184.61, target value: 214\n",
            "prediction: -3.51, target value: 12\n",
            "prediction: 106.86, target value: 54\n",
            "prediction: -2.01, target value: 18\n",
            "prediction: 90.39, target value: 64\n",
            "prediction: 28.19, target value: 18\n",
            "prediction: 295.55, target value: 370\n",
            "prediction: 100.42, target value: 66\n",
            "prediction: 219.43, target value: 188\n",
            "prediction: 109.18, target value: 144\n",
            "prediction: -18.53, target value: 10\n",
            "prediction: 29.34, target value: 21\n",
            "prediction: 115.44, target value: 100\n",
            "prediction: -9.28, target value: 8\n",
            "prediction: 308.88, target value: 140\n",
            "prediction: 226.02, target value: 173\n",
            "prediction: 9.11, target value: 36\n",
            "prediction: 0.33, target value: 16\n",
            "prediction: 32.19, target value: 22\n",
            "prediction: 61.83, target value: 60\n",
            "prediction: 117.06, target value: 116\n",
            "prediction: 1.03, target value: 24\n",
            "prediction: 450.99, target value: 510\n",
            "prediction: 195.27, target value: 259\n",
            "prediction: 3.43, target value: 30\n",
            "prediction: 1.00, target value: 21\n",
            "prediction: 360.83, target value: 405\n",
            "prediction: 36.23, target value: 22\n",
            "prediction: 45.05, target value: 45\n",
            "prediction: 564.78, target value: 636\n",
            "prediction: 46.39, target value: 60\n",
            "prediction: 65.00, target value: 38\n",
            "prediction: 55.47, target value: 105\n",
            "prediction: 69.35, target value: 66\n",
            "prediction: 47.05, target value: 50\n",
            "prediction: 248.80, target value: 208\n",
            "prediction: 36.23, target value: 12\n",
            "prediction: 27.82, target value: 16\n",
            "prediction: 226.16, target value: 212\n",
            "prediction: 17.32, target value: 23\n",
            "prediction: 93.01, target value: 76\n",
            "prediction: 117.06, target value: 51\n",
            "prediction: 12.20, target value: 45\n",
            "prediction: 59.71, target value: 62\n",
            "prediction: 114.02, target value: 66\n",
            "prediction: 8.42, target value: 20\n",
            "prediction: 536.61, target value: 510\n",
            "prediction: 278.57, target value: 172\n",
            "prediction: -14.56, target value: 6\n",
            "prediction: 205.00, target value: 237\n",
            "prediction: 10.52, target value: 29\n",
            "prediction: 186.50, target value: 106\n",
            "prediction: 12.18, target value: 26\n",
            "prediction: -2.18, target value: 69\n",
            "prediction: 45.91, target value: 32\n",
            "prediction: 356.78, target value: 307\n",
            "prediction: 28.12, target value: 22\n",
            "prediction: 299.91, target value: 198\n",
            "prediction: 220.59, target value: 189\n",
            "prediction: -3.34, target value: 25\n",
            "prediction: 59.39, target value: 58\n",
            "prediction: 15.64, target value: 26\n",
            "prediction: -7.13, target value: 26\n",
            "prediction: 102.21, target value: 32\n",
            "prediction: 67.75, target value: 32\n",
            "prediction: 43.27, target value: 37\n",
            "prediction: -0.93, target value: 24\n",
            "prediction: 94.95, target value: 80\n",
            "prediction: 113.86, target value: 113\n",
            "prediction: -0.02, target value: 11\n",
            "prediction: 84.33, target value: 40\n",
            "prediction: 45.07, target value: 26\n",
            "prediction: 77.35, target value: 138\n",
            "prediction: 199.78, target value: 100\n",
            "prediction: 20.10, target value: 40\n",
            "prediction: 84.01, target value: 61\n",
            "prediction: -6.57, target value: 6\n",
            "prediction: 40.70, target value: 72\n",
            "prediction: -0.26, target value: 27\n",
            "prediction: 87.12, target value: 41\n",
            "prediction: 278.57, target value: 269\n",
            "prediction: 152.99, target value: 93\n",
            "prediction: 404.54, target value: 367\n",
            "prediction: -2.01, target value: 12\n",
            "prediction: 118.98, target value: 368\n",
            "prediction: 29.96, target value: 40\n",
            "prediction: 154.26, target value: 111\n",
            "prediction: 125.10, target value: 86\n",
            "prediction: 6.08, target value: 25\n",
            "prediction: 85.11, target value: 60\n",
            "prediction: 301.50, target value: 318\n",
            "prediction: 102.93, target value: 30\n",
            "prediction: 278.57, target value: 220\n",
            "prediction: 220.59, target value: 141\n",
            "prediction: 7.31, target value: 38\n",
            "prediction: 19.26, target value: 27\n",
            "prediction: 23.61, target value: 32\n",
            "prediction: 60.73, target value: 72\n",
            "prediction: 20.61, target value: 38\n",
            "prediction: 15.11, target value: 22\n",
            "prediction: 86.64, target value: 35\n",
            "prediction: 92.87, target value: 66\n",
            "prediction: 132.70, target value: 133\n",
            "prediction: 32.21, target value: 36\n",
            "prediction: 46.79, target value: 52\n",
            "prediction: 22.92, target value: 36\n",
            "prediction: 36.75, target value: 22\n",
            "prediction: 36.23, target value: 16\n",
            "prediction: 26.27, target value: 45\n",
            "prediction: 18.50, target value: 13\n",
            "prediction: 29.41, target value: 40\n"
          ]
        }
      ]
    },
    {
      "cell_type": "code",
      "source": [
        "model_set_1 = linear_model.LinearRegression()\n",
        "model_set_1.fit(X_train_1, y_train_set)\n",
        "predictions_set = model_set_1.predict(X_train_1)\n",
        "for i in range(len(fin_y)):\n",
        "    print(f\"prediction: {fin_y[i]:0.2f}, target value: {y_train[i]}, sklearn_value: {predictions_set[i]}\")\n",
        "#print(len())\n",
        "#print(predictions_set)"
      ],
      "metadata": {
        "id": "EnlaJJ8YZqp4",
        "outputId": "bb040666-b025-44ad-ceb6-c3c374489205",
        "colab": {
          "base_uri": "https://localhost:8080/"
        }
      },
      "execution_count": 23,
      "outputs": [
        {
          "output_type": "stream",
          "name": "stdout",
          "text": [
            "prediction: 83.50, target value: 42, sklearn_value: 83.49982532495312\n",
            "prediction: -6.30, target value: 20, sklearn_value: -6.300240531693191\n",
            "prediction: 7.72, target value: 16, sklearn_value: 7.721201541900811\n",
            "prediction: 102.21, target value: 63, sklearn_value: 102.20961788084976\n",
            "prediction: 32.45, target value: 28, sklearn_value: 32.44682734726549\n",
            "prediction: 186.73, target value: 208, sklearn_value: 186.72773620539778\n",
            "prediction: 4.38, target value: 16, sklearn_value: 4.381202825617066\n",
            "prediction: 8.23, target value: 30, sklearn_value: 8.226363406644609\n",
            "prediction: 55.70, target value: 60, sklearn_value: 55.69948924912367\n",
            "prediction: 5.53, target value: 18, sklearn_value: 5.525702841359717\n",
            "prediction: 380.90, target value: 397, sklearn_value: 380.89558240947383\n",
            "prediction: -2.60, target value: 32, sklearn_value: -2.5987383914741002\n",
            "prediction: 295.69, target value: 277, sklearn_value: 295.6897720258717\n",
            "prediction: 132.03, target value: 130, sklearn_value: 132.0265504766405\n",
            "prediction: 9.91, target value: 40, sklearn_value: 9.912773938824834\n",
            "prediction: 85.11, target value: 52, sklearn_value: 85.10674552991709\n",
            "prediction: 41.69, target value: 50, sklearn_value: 41.69359410581993\n",
            "prediction: 43.38, target value: 56, sklearn_value: 43.384279902531695\n",
            "prediction: 14.21, target value: 33, sklearn_value: 14.20869292274741\n",
            "prediction: 8.32, target value: 19, sklearn_value: 8.319548051889434\n",
            "prediction: 27.23, target value: 44, sklearn_value: 27.230377050152832\n",
            "prediction: 52.59, target value: 33, sklearn_value: 52.58995465189551\n",
            "prediction: 14.39, target value: 77, sklearn_value: 14.389391999357542\n",
            "prediction: 194.22, target value: 134, sklearn_value: 194.22170352715062\n",
            "prediction: 186.35, target value: 214, sklearn_value: 186.35346671165368\n",
            "prediction: 186.04, target value: 132, sklearn_value: 186.04287358551935\n",
            "prediction: 26.70, target value: 36, sklearn_value: 26.704725868941352\n",
            "prediction: 58.69, target value: 33, sklearn_value: 58.694108110259464\n",
            "prediction: 29.96, target value: 34, sklearn_value: 29.95910209436019\n",
            "prediction: 49.21, target value: 30, sklearn_value: 49.20774801549534\n",
            "prediction: 23.18, target value: 12, sklearn_value: 23.178724251522297\n",
            "prediction: 5.71, target value: 17, sklearn_value: 5.7116871375177\n",
            "prediction: 3.43, target value: 36, sklearn_value: 3.43293106418362\n",
            "prediction: 52.32, target value: 46, sklearn_value: 52.32278567778823\n",
            "prediction: 23.01, target value: 45, sklearn_value: 23.01386922666685\n",
            "prediction: 92.72, target value: 76, sklearn_value: 92.72187137978719\n",
            "prediction: 9.24, target value: 31, sklearn_value: 9.23613163696767\n",
            "prediction: 21.81, target value: 29, sklearn_value: 21.805890653963868\n",
            "prediction: 28.13, target value: 20, sklearn_value: 28.130667016605585\n",
            "prediction: 213.41, target value: 120, sklearn_value: 213.4074961948878\n",
            "prediction: 106.86, target value: 65, sklearn_value: 106.86424409790291\n",
            "prediction: -12.56, target value: 17, sklearn_value: -12.556826999111443\n",
            "prediction: 391.77, target value: 465, sklearn_value: 391.76807950956044\n",
            "prediction: 111.54, target value: 132, sklearn_value: 111.53738177019407\n",
            "prediction: 49.36, target value: 67, sklearn_value: 49.35566687737311\n",
            "prediction: 11.42, target value: 11, sklearn_value: 11.417885986183009\n",
            "prediction: 103.53, target value: 46, sklearn_value: 103.52945789660866\n",
            "prediction: 31.23, target value: 62, sklearn_value: 31.22681976716939\n",
            "prediction: 149.24, target value: 144, sklearn_value: 149.24197579685185\n",
            "prediction: 22.72, target value: 32, sklearn_value: 22.719869804055904\n",
            "prediction: 12.08, target value: 27, sklearn_value: 12.077871603603612\n",
            "prediction: 118.98, target value: 274, sklearn_value: 118.98176042773996\n",
            "prediction: 161.49, target value: 38, sklearn_value: 161.492194790512\n",
            "prediction: 295.63, target value: 326, sklearn_value: 295.63330054839275\n",
            "prediction: 8.57, target value: 50, sklearn_value: 8.574966156379965\n",
            "prediction: 599.88, target value: 915, sklearn_value: 599.8800990812992\n",
            "prediction: 36.65, target value: 32, sklearn_value: 36.65406915645428\n",
            "prediction: 69.18, target value: 109, sklearn_value: 69.17917748925126\n",
            "prediction: 249.27, target value: 277, sklearn_value: 249.26908250319755\n",
            "prediction: 404.54, target value: 489, sklearn_value: 404.5412546670744\n",
            "prediction: 93.81, target value: 75, sklearn_value: 93.80630052503189\n",
            "prediction: 73.55, target value: 50, sklearn_value: 73.54873498324554\n",
            "prediction: 36.23, target value: 20, sklearn_value: 36.22539369416874\n",
            "prediction: 162.95, target value: 185, sklearn_value: 162.94547177914018\n",
            "prediction: 32.62, target value: 24, sklearn_value: 32.618492381398795\n",
            "prediction: 5.53, target value: 11, sklearn_value: 5.532995908794483\n",
            "prediction: 194.74, target value: 114, sklearn_value: 194.73912493131905\n",
            "prediction: 86.21, target value: 92, sklearn_value: 86.20926963800909\n",
            "prediction: 162.03, target value: 143, sklearn_value: 162.03290102845713\n",
            "prediction: 63.47, target value: 34, sklearn_value: 63.47019275329759\n",
            "prediction: 5.71, target value: 22, sklearn_value: 5.709509702170166\n",
            "prediction: 292.42, target value: 248, sklearn_value: 292.4157922142324\n",
            "prediction: 36.75, target value: 35, sklearn_value: 36.7547545829413\n",
            "prediction: 72.30, target value: 50, sklearn_value: 72.2970503363778\n",
            "prediction: 61.83, target value: 62, sklearn_value: 61.82970187221055\n",
            "prediction: 42.61, target value: 71, sklearn_value: 42.6086448478523\n",
            "prediction: 29.32, target value: 18, sklearn_value: 29.316697238694758\n",
            "prediction: 184.61, target value: 214, sklearn_value: 184.60689428929507\n",
            "prediction: -3.51, target value: 12, sklearn_value: -3.512528463604525\n",
            "prediction: 106.86, target value: 54, sklearn_value: 106.86424409790291\n",
            "prediction: -2.01, target value: 18, sklearn_value: -2.0136767447768023\n",
            "prediction: 90.39, target value: 64, sklearn_value: 90.38924712988303\n",
            "prediction: 28.19, target value: 18, sklearn_value: 28.186132394436186\n",
            "prediction: 295.55, target value: 370, sklearn_value: 295.5485933321743\n",
            "prediction: 100.42, target value: 66, sklearn_value: 100.4154999563169\n",
            "prediction: 219.43, target value: 188, sklearn_value: 219.4341217434484\n",
            "prediction: 109.18, target value: 144, sklearn_value: 109.18271065354077\n",
            "prediction: -18.53, target value: 10, sklearn_value: -18.534846348588687\n",
            "prediction: 29.34, target value: 21, sklearn_value: 29.336974510959447\n",
            "prediction: 115.44, target value: 100, sklearn_value: 115.44197916221236\n",
            "prediction: -9.28, target value: 8, sklearn_value: -9.280606031171644\n",
            "prediction: 308.88, target value: 140, sklearn_value: 308.87555733254476\n",
            "prediction: 226.02, target value: 173, sklearn_value: 226.01743151261198\n",
            "prediction: 9.11, target value: 36, sklearn_value: 9.107742311694047\n",
            "prediction: 0.33, target value: 16, sklearn_value: 0.33092304759097146\n",
            "prediction: 32.19, target value: 22, sklearn_value: 32.19328406246485\n",
            "prediction: 61.83, target value: 60, sklearn_value: 61.82970187221055\n",
            "prediction: 117.06, target value: 116, sklearn_value: 117.06388898901055\n",
            "prediction: 1.03, target value: 24, sklearn_value: 1.0304657986988275\n",
            "prediction: 450.99, target value: 510, sklearn_value: 450.9901799284881\n",
            "prediction: 195.27, target value: 259, sklearn_value: 195.26736497717326\n",
            "prediction: 3.43, target value: 30, sklearn_value: 3.425972246241159\n",
            "prediction: 1.00, target value: 21, sklearn_value: 1.001123499786999\n",
            "prediction: 360.83, target value: 405, sklearn_value: 360.8305451738701\n",
            "prediction: 36.23, target value: 22, sklearn_value: 36.22539369416874\n",
            "prediction: 45.05, target value: 45, sklearn_value: 45.04748038660601\n",
            "prediction: 564.78, target value: 636, sklearn_value: 564.7783152403188\n",
            "prediction: 46.39, target value: 60, sklearn_value: 46.38926427059512\n",
            "prediction: 65.00, target value: 38, sklearn_value: 65.00441469297141\n",
            "prediction: 55.47, target value: 105, sklearn_value: 55.46791112188512\n",
            "prediction: 69.35, target value: 66, sklearn_value: 69.34875808263523\n",
            "prediction: 47.05, target value: 50, sklearn_value: 47.054925938664624\n",
            "prediction: 248.80, target value: 208, sklearn_value: 248.79716213634714\n",
            "prediction: 36.23, target value: 12, sklearn_value: 36.22539369416874\n",
            "prediction: 27.82, target value: 16, sklearn_value: 27.8152924557477\n",
            "prediction: 226.16, target value: 212, sklearn_value: 226.16123790280372\n",
            "prediction: 17.32, target value: 23, sklearn_value: 17.318925525607135\n",
            "prediction: 93.01, target value: 76, sklearn_value: 93.0085434232133\n",
            "prediction: 117.06, target value: 51, sklearn_value: 117.06388898901055\n",
            "prediction: 12.20, target value: 45, sklearn_value: 12.198229792945398\n",
            "prediction: 59.71, target value: 62, sklearn_value: 59.714804839322284\n",
            "prediction: 114.02, target value: 66, sklearn_value: 114.02101411838042\n",
            "prediction: 8.42, target value: 20, sklearn_value: 8.42111527679733\n",
            "prediction: 536.61, target value: 510, sklearn_value: 536.6099919417798\n",
            "prediction: 278.57, target value: 172, sklearn_value: 278.57156474701185\n",
            "prediction: -14.56, target value: 6, sklearn_value: -14.561892197164362\n",
            "prediction: 205.00, target value: 237, sklearn_value: 204.9950310588246\n",
            "prediction: 10.52, target value: 29, sklearn_value: 10.519811297941573\n",
            "prediction: 186.50, target value: 106, sklearn_value: 186.50185029548192\n",
            "prediction: 12.18, target value: 26, sklearn_value: 12.183011782015896\n",
            "prediction: -2.18, target value: 69, sklearn_value: -2.1841025387429127\n",
            "prediction: 45.91, target value: 32, sklearn_value: 45.90641364040539\n",
            "prediction: 356.78, target value: 307, sklearn_value: 356.7771804529635\n",
            "prediction: 28.12, target value: 22, sklearn_value: 28.122083554980897\n",
            "prediction: 299.91, target value: 198, sklearn_value: 299.9057608912776\n",
            "prediction: 220.59, target value: 189, sklearn_value: 220.59329538625016\n",
            "prediction: -3.34, target value: 25, sklearn_value: -3.339722988541965\n",
            "prediction: 59.39, target value: 58, sklearn_value: 59.39030034429016\n",
            "prediction: 15.64, target value: 26, sklearn_value: 15.640224105812592\n",
            "prediction: -7.13, target value: 26, sklearn_value: -7.125882775105296\n",
            "prediction: 102.21, target value: 32, sklearn_value: 102.20961788084976\n",
            "prediction: 67.75, target value: 32, sklearn_value: 67.75384149692432\n",
            "prediction: 43.27, target value: 37, sklearn_value: 43.26505209597177\n",
            "prediction: -0.93, target value: 24, sklearn_value: -0.9281106082853086\n",
            "prediction: 94.95, target value: 80, sklearn_value: 94.94989234092313\n",
            "prediction: 113.86, target value: 113, sklearn_value: 113.85776856023567\n",
            "prediction: -0.02, target value: 11, sklearn_value: -0.015104704772753053\n",
            "prediction: 84.33, target value: 40, sklearn_value: 84.3311104752377\n",
            "prediction: 45.07, target value: 26, sklearn_value: 45.07481339836823\n",
            "prediction: 77.35, target value: 138, sklearn_value: 77.35182903764313\n",
            "prediction: 199.78, target value: 100, sklearn_value: 199.77820841875157\n",
            "prediction: 20.10, target value: 40, sklearn_value: 20.09945505860809\n",
            "prediction: 84.01, target value: 61, sklearn_value: 84.00628997558601\n",
            "prediction: -6.57, target value: 6, sklearn_value: -6.573782957045438\n",
            "prediction: 40.70, target value: 72, sklearn_value: 40.70480275774692\n",
            "prediction: -0.26, target value: 27, sklearn_value: -0.2638498462623602\n",
            "prediction: 87.12, target value: 41, sklearn_value: 87.11622119155614\n",
            "prediction: 278.57, target value: 269, sklearn_value: 278.57156474701185\n",
            "prediction: 152.99, target value: 93, sklearn_value: 152.99419100003666\n",
            "prediction: 404.54, target value: 367, sklearn_value: 404.5412546670744\n",
            "prediction: -2.01, target value: 12, sklearn_value: -2.0136767447768023\n",
            "prediction: 118.98, target value: 368, sklearn_value: 118.98176042773996\n",
            "prediction: 29.96, target value: 40, sklearn_value: 29.95910209436019\n",
            "prediction: 154.26, target value: 111, sklearn_value: 154.2631037220006\n",
            "prediction: 125.10, target value: 86, sklearn_value: 125.1038253323685\n",
            "prediction: 6.08, target value: 25, sklearn_value: 6.0801654302684796\n",
            "prediction: 85.11, target value: 60, sklearn_value: 85.10674552991709\n",
            "prediction: 301.50, target value: 318, sklearn_value: 301.49955212095415\n",
            "prediction: 102.93, target value: 30, sklearn_value: 102.92963486678741\n",
            "prediction: 278.57, target value: 220, sklearn_value: 278.57156474701185\n",
            "prediction: 220.59, target value: 141, sklearn_value: 220.59329538625016\n",
            "prediction: 7.31, target value: 38, sklearn_value: 7.314832902268741\n",
            "prediction: 19.26, target value: 27, sklearn_value: 19.2646741674103\n",
            "prediction: 23.61, target value: 32, sklearn_value: 23.605806968758415\n",
            "prediction: 60.73, target value: 72, sklearn_value: 60.73443532940246\n",
            "prediction: 20.61, target value: 38, sklearn_value: 20.606458051399407\n",
            "prediction: 15.11, target value: 22, sklearn_value: 15.111480036210658\n",
            "prediction: 86.64, target value: 35, sklearn_value: 86.64295330135734\n",
            "prediction: 92.87, target value: 66, sklearn_value: 92.86736472951587\n",
            "prediction: 132.70, target value: 133, sklearn_value: 132.70150010483286\n",
            "prediction: 32.21, target value: 36, sklearn_value: 32.212644353671436\n",
            "prediction: 46.79, target value: 52, sklearn_value: 46.78546733992517\n",
            "prediction: 22.92, target value: 36, sklearn_value: 22.915496814497693\n",
            "prediction: 36.75, target value: 22, sklearn_value: 36.7547545829413\n",
            "prediction: 36.23, target value: 16, sklearn_value: 36.22539369416874\n",
            "prediction: 26.27, target value: 45, sklearn_value: 26.26860781868272\n",
            "prediction: 18.50, target value: 13, sklearn_value: 18.49907219535911\n",
            "prediction: 29.41, target value: 40, sklearn_value: 29.411616428099197\n"
          ]
        }
      ]
    },
    {
      "cell_type": "code",
      "source": [
        "def remove_outliers(df,columns,n_std):\n",
        "    for col in columns:\n",
        "        print('Working on column: {}'.format(col))\n",
        "        \n",
        "        mean = df[col].mean()\n",
        "        sd = df[col].std()\n",
        "        \n",
        "        df = df[(df[col] <= mean+(n_std*sd))]\n",
        "        \n",
        "    return df"
      ],
      "metadata": {
        "id": "k7irJD50ght3"
      },
      "execution_count": 24,
      "outputs": []
    },
    {
      "cell_type": "code",
      "source": [
        "columns = ['Machine_cycle_time', 'Min_main_mem', 'Max_main_mem', 'Cache_mem', 'Min_channels', 'Max_channels', 'Published_performance']\n",
        "input_clean = remove_outliers(input_df,columns,3)\n"
      ],
      "metadata": {
        "id": "rCJLIEcMgk0P",
        "outputId": "77bd6da7-4a5c-4566-e621-dc4e23e937ed",
        "colab": {
          "base_uri": "https://localhost:8080/"
        }
      },
      "execution_count": 25,
      "outputs": [
        {
          "output_type": "stream",
          "name": "stdout",
          "text": [
            "Working on column: Machine_cycle_time\n",
            "Working on column: Min_main_mem\n",
            "Working on column: Max_main_mem\n",
            "Working on column: Cache_mem\n",
            "Working on column: Min_channels\n",
            "Working on column: Max_channels\n",
            "Working on column: Published_performance\n"
          ]
        }
      ]
    },
    {
      "cell_type": "code",
      "source": [
        "#Creating 2 dataframes - x_df with 6 predictive attributes, y_df with goal attribute\n",
        "x_clean = input_clean[['Machine_cycle_time', 'Min_main_mem', 'Max_main_mem', 'Cache_mem', 'Min_channels', 'Max_channels']]\n",
        "y_clean = input_clean['Published_performance']\n",
        "# Splitting the training and testing data from cleaned data\n",
        "x_train_set_2, x_test_set_2,y_train_set_2,y_test_set_2 = train_test_split(x_clean,y_clean, train_size=0.9)"
      ],
      "metadata": {
        "id": "9DEPE_qIhdFQ"
      },
      "execution_count": 26,
      "outputs": []
    },
    {
      "cell_type": "code",
      "source": [
        "X_features = ['Machine_cycle_time', 'Min_main_mem', 'Max_main_mem', 'Cache_mem', 'Min_channels', 'Max_channels']\n",
        "x_numpy_arr = x_clean.to_numpy()\n",
        "y_numpy_arr = y_clean.to_numpy()\n",
        "fig,ax=plt.subplots(1, 6, figsize=(18, 4), sharey=True)\n",
        "for i in range(len(ax)):\n",
        "    ax[i].scatter(x_numpy_arr[:,i],y_numpy_arr)\n",
        "    ax[i].set_xlabel(X_features[i])\n",
        "ax[0].set_ylabel(\"Published performance\")\n",
        "plt.show()"
      ],
      "metadata": {
        "id": "pIVve9T7hUrk",
        "outputId": "854f860e-a77b-4893-9292-a54e2ae5fc25",
        "colab": {
          "base_uri": "https://localhost:8080/",
          "height": 280
        }
      },
      "execution_count": 27,
      "outputs": [
        {
          "output_type": "display_data",
          "data": {
            "text/plain": [
              "<Figure size 1296x288 with 6 Axes>"
            ],
            "image/png": "[encoded data removed]"
          },
          "metadata": {
            "needs_background": "light"
          }
        }
      ]
    },
    {
      "cell_type": "code",
      "source": [
        "# initialize parameters\n",
        "initial_w = np.zeros_like(initial_w)\n",
        "initial_b = 0.0\n",
        "print(initial_w, initial_b)\n",
        "# some gradient descent settings\n",
        "iterations = 95000\n",
        "alpha = 1.0e-8\n",
        "# run gradient descent \n",
        "y_train = y_train_set_2.to_numpy()\n",
        "x_train = x_train_set_2.to_numpy()\n",
        "w_final, b_final, J_hist = gradient_descent(x_train, y_train, initial_w, initial_b,\n",
        "                                                    compute_cost, compute_gradient, \n",
        "                                                    alpha, iterations)\n",
        "print(f\"b,w found by gradient descent: {b_final:0.2f},{w_final} \")\n",
        "m,_ = x_train.shape\n",
        "fin_y = []\n",
        "for i in range(m):\n",
        "    y_cap = np.dot(x_train[i], w_final) + b_final\n",
        "    #print(f\"prediction: {y_cap:0.2f}, target value: {y_train[i]}\")\n",
        "    fin_y.append(y_cap)"
      ],
      "metadata": {
        "id": "lwXziBw4iDt_",
        "outputId": "ad78d847-4294-4f13-da66-981351db269a",
        "colab": {
          "base_uri": "https://localhost:8080/"
        }
      },
      "execution_count": 31,
      "outputs": [
        {
          "output_type": "stream",
          "name": "stdout",
          "text": [
            "[0. 0. 0. 0. 0. 0.] 0.0\n",
            "Iteration    0: Cost   963.52   \n",
            "Iteration 9500: Cost   320.50   \n",
            "Iteration 19000: Cost   318.08   \n",
            "Iteration 28500: Cost   315.76   \n",
            "Iteration 38000: Cost   313.52   \n",
            "Iteration 47500: Cost   311.37   \n",
            "Iteration 57000: Cost   309.30   \n",
            "Iteration 66500: Cost   307.32   \n",
            "Iteration 76000: Cost   305.41   \n",
            "Iteration 85500: Cost   303.57   \n",
            "b,w found by gradient descent: 0.00,[0.00272898 0.01132771 0.00369099 0.12115177 0.01477845 0.07211883] \n"
          ]
        }
      ]
    },
    {
      "cell_type": "code",
      "source": [
        "model_set_1 = linear_model.LinearRegression()\n",
        "model_set_1.fit(x_train_set_2, y_train_set_2)\n",
        "predictions_set = model_set_1.predict(x_train_set_2)\n",
        "for i in range(len(fin_y)):\n",
        "    print(f\"prediction: {fin_y[i]:0.2f}, target value: {y_train[i]}, sklearn_value: {predictions_set[i]}\")"
      ],
      "metadata": {
        "id": "cGg5K4EJh62W",
        "outputId": "561513fa-d629-4cdf-dcc0-f65755467a17",
        "colab": {
          "base_uri": "https://localhost:8080/"
        }
      },
      "execution_count": 39,
      "outputs": [
        {
          "output_type": "stream",
          "name": "stdout",
          "text": [
            "prediction: 22.59, target value: 50, sklearn_value: 26.532326924018257\n",
            "prediction: 42.84, target value: 67, sklearn_value: 50.838267726424924\n",
            "prediction: 57.57, target value: 60, sklearn_value: 62.49340475290205\n",
            "prediction: 45.16, target value: 71, sklearn_value: 45.84236274980262\n",
            "prediction: 114.53, target value: 93, sklearn_value: 130.8182525436251\n",
            "prediction: 37.90, target value: 40, sklearn_value: 31.24162381312538\n",
            "prediction: 15.14, target value: 69, sklearn_value: 15.837352796863094\n",
            "prediction: 91.55, target value: 75, sklearn_value: 86.24135243049813\n",
            "prediction: 88.72, target value: 54, sklearn_value: 96.06170132392629\n",
            "prediction: 23.85, target value: 16, sklearn_value: 22.531624507153303\n",
            "prediction: 54.27, target value: 71, sklearn_value: 47.85201387280317\n",
            "prediction: 60.59, target value: 60, sklearn_value: 58.657280990444804\n",
            "prediction: 27.12, target value: 77, sklearn_value: 26.198772321379877\n",
            "prediction: 8.44, target value: 36, sklearn_value: 24.1111056379296\n",
            "prediction: 4.79, target value: 6, sklearn_value: 6.002776130516227\n",
            "prediction: 12.71, target value: 22, sklearn_value: 18.40036841687109\n",
            "prediction: 40.49, target value: 37, sklearn_value: 38.28300237274209\n",
            "prediction: 87.44, target value: 66, sklearn_value: 80.18821377885095\n",
            "prediction: 59.05, target value: 70, sklearn_value: 74.34443911142802\n",
            "prediction: 95.16, target value: 144, sklearn_value: 113.43787377299799\n",
            "prediction: 18.19, target value: 16, sklearn_value: 16.389270329165317\n",
            "prediction: 14.67, target value: 32, sklearn_value: 18.70929559379555\n",
            "prediction: 19.49, target value: 24, sklearn_value: 16.675259550546983\n",
            "prediction: 18.80, target value: 20, sklearn_value: 15.218606958936416\n",
            "prediction: 14.65, target value: 20, sklearn_value: 16.91400520849\n",
            "prediction: 27.72, target value: 28, sklearn_value: 39.52378379507004\n",
            "prediction: 143.97, target value: 106, sklearn_value: 152.89119482796858\n",
            "prediction: 21.53, target value: 40, sklearn_value: 21.75552336385312\n",
            "prediction: 58.81, target value: 84, sklearn_value: 56.183807968034294\n",
            "prediction: 54.32, target value: 56, sklearn_value: 48.01642364631297\n",
            "prediction: 22.57, target value: 36, sklearn_value: 32.121774100965595\n",
            "prediction: 22.05, target value: 14, sklearn_value: 19.43355650648344\n",
            "prediction: 75.33, target value: 32, sklearn_value: 58.50589738023603\n",
            "prediction: 39.52, target value: 32, sklearn_value: 41.11360507861952\n",
            "prediction: 33.23, target value: 20, sklearn_value: 29.15078597689506\n",
            "prediction: 184.68, target value: 173, sklearn_value: 174.33616626060294\n",
            "prediction: 23.34, target value: 44, sklearn_value: 35.68738521253816\n",
            "prediction: 37.38, target value: 12, sklearn_value: 34.31416924554639\n",
            "prediction: 12.64, target value: 11, sklearn_value: 12.914318074884793\n",
            "prediction: 11.43, target value: 6, sklearn_value: 14.461585621033702\n",
            "prediction: 88.72, target value: 65, sklearn_value: 96.06170132392629\n",
            "prediction: 75.31, target value: 50, sklearn_value: 64.82163402356451\n",
            "prediction: 106.65, target value: 132, sklearn_value: 96.04950765998737\n",
            "prediction: 45.66, target value: 60, sklearn_value: 47.508799088636174\n",
            "prediction: 27.84, target value: 24, sklearn_value: 28.884696174114964\n",
            "prediction: 23.95, target value: 38, sklearn_value: 20.53250931963254\n",
            "prediction: 59.03, target value: 33, sklearn_value: 55.98375065253537\n",
            "prediction: 217.26, target value: 220, sklearn_value: 203.73564662391644\n",
            "prediction: 27.90, target value: 29, sklearn_value: 27.336281278934255\n",
            "prediction: 55.66, target value: 105, sklearn_value: 63.351051392962766\n",
            "prediction: 148.92, target value: 185, sklearn_value: 128.56597372555674\n",
            "prediction: 27.33, target value: 30, sklearn_value: 23.183925714871105\n",
            "prediction: 46.03, target value: 26, sklearn_value: 52.66904484703637\n",
            "prediction: 19.41, target value: 18, sklearn_value: 17.648823350515276\n",
            "prediction: 46.05, target value: 32, sklearn_value: 54.696901588035566\n",
            "prediction: 11.16, target value: 36, sklearn_value: 26.10997900097018\n",
            "prediction: 43.75, target value: 36, sklearn_value: 44.768794730928896\n",
            "prediction: 69.93, target value: 49, sklearn_value: 60.93670367625461\n",
            "prediction: 115.12, target value: 143, sklearn_value: 138.2783971433579\n",
            "prediction: 53.95, target value: 50, sklearn_value: 45.85388623223008\n",
            "prediction: 39.66, target value: 22, sklearn_value: 37.401081920379944\n",
            "prediction: 44.59, target value: 72, sklearn_value: 46.93789696896916\n",
            "prediction: 62.02, target value: 41, sklearn_value: 81.89725327235718\n",
            "prediction: 58.22, target value: 109, sklearn_value: 63.99161823652587\n",
            "prediction: 27.92, target value: 33, sklearn_value: 25.50274126129563\n",
            "prediction: 74.54, target value: 34, sklearn_value: 57.89960838664286\n",
            "prediction: 74.82, target value: 63, sklearn_value: 99.07588533777863\n",
            "prediction: 144.00, target value: 208, sklearn_value: 152.93205895373978\n",
            "prediction: 54.76, target value: 53, sklearn_value: 52.90455131246666\n",
            "prediction: 55.52, target value: 62, sklearn_value: 55.15921344452276\n",
            "prediction: 45.52, target value: 21, sklearn_value: 36.93334315389942\n",
            "prediction: 39.17, target value: 40, sklearn_value: 39.589239909560185\n",
            "prediction: 153.06, target value: 132, sklearn_value: 147.59789036777462\n",
            "prediction: 90.36, target value: 42, sklearn_value: 71.27640835663911\n",
            "prediction: 47.17, target value: 46, sklearn_value: 57.741796511376585\n",
            "prediction: 55.41, target value: 50, sklearn_value: 52.609363496438014\n",
            "prediction: 26.92, target value: 23, sklearn_value: 25.575416526498724\n",
            "prediction: 86.00, target value: 60, sklearn_value: 78.82573706830385\n",
            "prediction: 16.03, target value: 19, sklearn_value: 25.57505516247218\n",
            "prediction: 30.68, target value: 22, sklearn_value: 31.18486532159526\n",
            "prediction: 155.46, target value: 189, sklearn_value: 150.89105845597715\n",
            "prediction: 31.97, target value: 45, sklearn_value: 35.79146108764677\n",
            "prediction: 43.11, target value: 42, sklearn_value: 36.830155584080124\n",
            "prediction: 37.38, target value: 14, sklearn_value: 34.31416924554639\n",
            "prediction: 13.13, target value: 24, sklearn_value: 13.244938397882564\n",
            "prediction: 56.09, target value: 58, sklearn_value: 60.450361070829395\n",
            "prediction: 152.57, target value: 114, sklearn_value: 151.21299893900928\n",
            "prediction: 26.94, target value: 17, sklearn_value: 22.777190998009036\n",
            "prediction: 37.84, target value: 29, sklearn_value: 34.40091042447773\n",
            "prediction: 30.17, target value: 18, sklearn_value: 28.80779124721355\n",
            "prediction: 2.41, target value: 10, sklearn_value: 4.105315966660058\n",
            "prediction: 71.07, target value: 66, sklearn_value: 69.91097508052621\n",
            "prediction: 80.37, target value: 116, sklearn_value: 111.18794237793446\n",
            "prediction: 28.04, target value: 45, sklearn_value: 21.928674281824847\n",
            "prediction: 28.23, target value: 32, sklearn_value: 30.04257317353244\n",
            "prediction: 38.98, target value: 40, sklearn_value: 36.23137229887707\n",
            "prediction: 154.69, target value: 136, sklearn_value: 142.03199916739771\n",
            "prediction: 61.84, target value: 92, sklearn_value: 82.26962891048595\n",
            "prediction: 155.46, target value: 141, sklearn_value: 150.89105845597715\n",
            "prediction: 37.98, target value: 40, sklearn_value: 36.757586712496526\n",
            "prediction: 60.40, target value: 72, sklearn_value: 60.31469693896541\n",
            "prediction: 157.86, target value: 188, sklearn_value: 176.19442858654548\n",
            "prediction: 27.94, target value: 22, sklearn_value: 28.23250078767116\n",
            "prediction: 106.17, target value: 46, sklearn_value: 84.65320832663537\n",
            "prediction: 15.50, target value: 11, sklearn_value: 18.13460516055236\n",
            "prediction: 22.53, target value: 25, sklearn_value: 20.44875670102067\n",
            "prediction: 54.05, target value: 52, sklearn_value: 46.98851160573217\n",
            "prediction: 16.40, target value: 27, sklearn_value: 17.353986037650753\n",
            "prediction: 38.87, target value: 22, sklearn_value: 39.30509757001173\n",
            "prediction: 27.94, target value: 26, sklearn_value: 31.391994760932647\n",
            "prediction: 156.66, target value: 100, sklearn_value: 157.23374995224574\n",
            "prediction: 220.52, target value: 248, sklearn_value: 228.21778575964592\n",
            "prediction: 58.92, target value: 50, sklearn_value: 65.78518514502974\n",
            "prediction: 39.17, target value: 34, sklearn_value: 39.589239909560185\n",
            "prediction: 19.76, target value: 16, sklearn_value: 16.830748226635443\n",
            "prediction: 86.00, target value: 52, sklearn_value: 78.82573706830385\n",
            "prediction: 114.62, target value: 111, sklearn_value: 131.0959919334307\n",
            "prediction: 67.50, target value: 64, sklearn_value: 66.24398063263058\n",
            "prediction: 20.02, target value: 31, sklearn_value: 26.288713079867527\n",
            "prediction: 17.79, target value: 11, sklearn_value: 16.398117195334653\n",
            "prediction: 39.66, target value: 35, sklearn_value: 37.401081920379944\n",
            "prediction: 7.63, target value: 17, sklearn_value: 12.320250258915795\n",
            "prediction: 28.39, target value: 45, sklearn_value: 26.998790384718212\n",
            "prediction: 54.37, target value: 45, sklearn_value: 52.07213712831136\n",
            "prediction: 11.37, target value: 18, sklearn_value: 15.412365438872829\n",
            "prediction: 24.48, target value: 27, sklearn_value: 24.53561534317828\n",
            "prediction: 43.02, target value: 36, sklearn_value: 36.231906137847766\n",
            "prediction: 76.56, target value: 138, sklearn_value: 72.35173120559287\n",
            "prediction: 87.10, target value: 45, sklearn_value: 82.84690887778356\n",
            "prediction: 42.93, target value: 16, sklearn_value: 38.4066004007461\n",
            "prediction: 143.00, target value: 214, sklearn_value: 147.2080902990615\n",
            "prediction: 43.25, target value: 30, sklearn_value: 46.86879573570661\n",
            "prediction: 53.22, target value: 61, sklearn_value: 59.53449132886761\n",
            "prediction: 57.57, target value: 62, sklearn_value: 62.49340475290205\n",
            "prediction: 37.38, target value: 20, sklearn_value: 34.31416924554639\n",
            "prediction: 107.41, target value: 100, sklearn_value: 100.00506666129934\n",
            "prediction: 19.13, target value: 12, sklearn_value: 16.231815453210125\n",
            "prediction: 153.10, target value: 214, sklearn_value: 147.65407854071003\n",
            "prediction: 110.51, target value: 133, sklearn_value: 114.2675111075896\n",
            "prediction: 48.35, target value: 33, sklearn_value: 58.146494114849254\n",
            "prediction: 38.40, target value: 32, sklearn_value: 30.851232162494462\n",
            "prediction: 80.37, target value: 51, sklearn_value: 111.18794237793446\n",
            "prediction: 54.78, target value: 50, sklearn_value: 48.68046569009503\n",
            "prediction: 94.85, target value: 113, sklearn_value: 101.10524779789216\n",
            "prediction: 153.45, target value: 134, sklearn_value: 145.30112615664396\n",
            "prediction: 110.59, target value: 130, sklearn_value: 110.39057817584023\n",
            "prediction: 32.31, target value: 38, sklearn_value: 42.369175328360924\n",
            "prediction: 87.45, target value: 76, sklearn_value: 80.21375385745796\n",
            "prediction: 217.26, target value: 172, sklearn_value: 203.73564662391644\n",
            "prediction: 28.81, target value: 38, sklearn_value: 29.3778509698765\n",
            "prediction: 19.41, target value: 12, sklearn_value: 17.648823350515276\n",
            "prediction: 88.02, target value: 80, sklearn_value: 84.2783198838323\n",
            "prediction: 60.58, target value: 66, sklearn_value: 70.63025863599964\n",
            "prediction: 28.96, target value: 26, sklearn_value: 31.903681050452306\n",
            "prediction: 22.35, target value: 30, sklearn_value: 20.848752776265883\n",
            "prediction: 146.78, target value: 237, sklearn_value: 173.06680381152617\n",
            "prediction: 71.34, target value: 35, sklearn_value: 70.51757038568198\n",
            "prediction: 19.30, target value: 25, sklearn_value: 16.166706182853382\n"
          ]
        }
      ]
    },
    {
      "cell_type": "code",
      "source": [
        ""
      ],
      "metadata": {
        "id": "0MjEIiQ_h1Re"
      },
      "execution_count": null,
      "outputs": []
    },
    {
      "cell_type": "markdown",
      "source": [
        "## 3. Model Building"
      ],
      "metadata": {
        "id": "W-ALCWxWvVkb"
      }
    },
    {
      "cell_type": "markdown",
      "source": [
        "### Mathematical Equation"
      ],
      "metadata": {
        "id": "YeM62_Q9_pbO"
      }
    },
    {
      "cell_type": "markdown",
      "source": [
        "#### The mathematical equation for our Multiple Linear Regression model will look like,\n",
        "\n",
        "## $$ y = \\beta_0 + \\beta_1 x_1 + \\beta_2 x_2 + \\beta_3 x_3 + \\beta_4 x_4 + \\beta_5 x_5 + \\beta_6 x_6 + \\epsilon \\\\ $$\n",
        "\n",
        "## $$ Estimated\\_Performance = \\beta_0 + \\beta_1 (Max\\_main\\_mem) + \\beta_2 (Min\\_main\\_mem) + \\beta_3 (Cache\\_mem) + \\beta_4 (Max\\_channels) + \\beta_5 (Min\\_channels) + \\beta_6 (Machine\\_cycle\\_time) + \\epsilon \\\\ $$\n",
        "\n",
        "This equation gives us a line that fits the data and performs better that average line.\n",
        "\n",
        "where,\n",
        "$$ \\beta_0 \\\\ $$ is intercept, \n",
        "$$ \\beta_1, .. \\beta_6 \\\\ $$ are all coefficients,\n",
        "$$ \\epsilon \\\\ $$ is error or residual. "
      ],
      "metadata": {
        "id": "ppaLFUjZ2XNJ"
      }
    },
    {
      "cell_type": "markdown",
      "source": [
        "### case 1 : Train = 80% Test = 20%"
      ],
      "metadata": {
        "id": "y2WD59guvYsS"
      }
    },
    {
      "cell_type": "code",
      "source": [
        "# Splitting the training and testing data from cleaned data\n",
        "x_train_set_1, x_test_set_1,y_train_set_1,y_test_set_1 = train_test_split(x_df,y_df, train_size=0.9)\n",
        "print(\"Set 1 : \",x_train_set_1.shape, x_test_set_1.shape, y_train_set_1.shape, y_test_set_1.shape)"
      ],
      "metadata": {
        "colab": {
          "base_uri": "https://localhost:8080/"
        },
        "id": "8niMHpCzTW95",
        "outputId": "93df627b-37cf-4987-b275-480bcba0be28"
      },
      "execution_count": 240,
      "outputs": [
        {
          "output_type": "stream",
          "name": "stdout",
          "text": [
            "Set 1 :  (188, 6) (21, 6) (188,) (21,)\n"
          ]
        }
      ]
    },
    {
      "cell_type": "markdown",
      "source": [
        "#### **Model for 80-20 Train - Test split with uncleaned, skewed data**"
      ],
      "metadata": {
        "id": "Qo34q99HATRl"
      }
    },
    {
      "cell_type": "code",
      "source": [
        "model_set_3 = linear_model.LinearRegression()\n",
        "model_set_3.fit(x_train_set_3, y_train_set_3)\n",
        "predictions_set_3 = model_set_3.predict(x_test_set_3)\n",
        "\n",
        "#Calculating Mean Squared Error for Performance Evaluation\n",
        "mean_square_error = mean_squared_error(y_test_set_3, predictions_set_3)\n",
        "#Calculating Mean Absolute Error for Performance Evaluation\n",
        "mean_abs_error = mean_absolute_error(y_test_set_3, predictions_set_3)\n",
        "#Calculating Root Mean Squared Error for Performance Evaluation\n",
        "root_mean_square_error = sqrt(mean_squared_error(y_test_set_3, predictions_set_3)) \n",
        "\n",
        "\n",
        "print(f'Mean Squared Error: {mean_square_error}')\n",
        "print(f'Mean Absolute Error : {mean_abs_error}')\n",
        "print(f'Root Mean Squared Error {root_mean_square_error}')"
      ],
      "metadata": {
        "colab": {
          "base_uri": "https://localhost:8080/"
        },
        "id": "Kh8HSazJp5iP",
        "outputId": "f82df496-a694-49a5-ce8c-0c3ab2cbbb6d"
      },
      "execution_count": null,
      "outputs": [
        {
          "output_type": "stream",
          "name": "stdout",
          "text": [
            "Mean Squared Error: 3378.00354628173\n",
            "Mean Absolute Error : 42.49273972577873\n",
            "Root Mean Squared Error 58.12059485485098\n"
          ]
        }
      ]
    },
    {
      "cell_type": "markdown",
      "source": [
        "#### **Model for 80-20 Train - Test split with cleaned data**"
      ],
      "metadata": {
        "id": "KsbZNLa2ACaL"
      }
    },
    {
      "cell_type": "code",
      "source": [
        "model_set_1 = linear_model.LinearRegression()\n",
        "model_set_1.fit(x_train_set_1, y_train_set_1)\n",
        "predictions_set_1 = model_set_1.predict(x_test_set_1)\n",
        "\n",
        "#Calculating Mean Squared Error for Performance Evaluation\n",
        "mean_square_error_1 = mean_squared_error(y_test_set_1, predictions_set_1)\n",
        "#Calculating Mean Absolute Error for Performance Evaluation\n",
        "mean_abs_error_1 = mean_absolute_error(y_test_set_1, predictions_set_1)\n",
        "#Calculating Root Mean Squared Error for Performance Evaluation\n",
        "root_mean_square_error_1 = sqrt(mean_squared_error(y_test_set_1, predictions_set_1)) \n",
        "\n",
        "\n",
        "print(f'Mean Squared Error: {mean_square_error_1}')\n",
        "print(f'Mean Absolute Error : {mean_abs_error_1}')\n",
        "print(f'Root Mean Squared Error {root_mean_square_error_1}')"
      ],
      "metadata": {
        "colab": {
          "base_uri": "https://localhost:8080/"
        },
        "id": "6UiRqEFJk3QT",
        "outputId": "d129e840-6e44-4f67-eb3b-fdc0bc5072d6"
      },
      "execution_count": 241,
      "outputs": [
        {
          "output_type": "stream",
          "name": "stdout",
          "text": [
            "Mean Squared Error: 3462.291281818224\n",
            "Mean Absolute Error : 36.324662997927675\n",
            "Root Mean Squared Error 58.84123793580675\n"
          ]
        }
      ]
    },
    {
      "cell_type": "markdown",
      "source": [
        "We can observe that with the normalized data there is a reduction in MSE."
      ],
      "metadata": {
        "id": "qyG71I1MBdZ3"
      }
    },
    {
      "cell_type": "code",
      "source": [
        "# Plotting the predictions of model trained with cleaned data\n",
        "df_linear_set_1 = pd.DataFrame({'Published_performance':list(y_test_set_1),'Estimated_performance':predictions_set_1})\n",
        "sns.lmplot(x='Estimated_performance', y='Published_performance', data=df_linear_set_1).fig.suptitle(\"Final Model - PRP Vs ERP with cleaned\")"
      ],
      "metadata": {
        "colab": {
          "base_uri": "https://localhost:8080/",
          "height": 390
        },
        "id": "nefu4DKmt98m",
        "outputId": "0a88d17c-7866-428e-9def-a6e1db9d4e17"
      },
      "execution_count": 242,
      "outputs": [
        {
          "output_type": "execute_result",
          "data": {
            "text/plain": [
              "Text(0.5, 0.98, 'Final Model - PRP Vs ERP with cleaned')"
            ]
          },
          "metadata": {},
          "execution_count": 242
        },
        {
          "output_type": "display_data",
          "data": {
            "text/plain": [
              "<Figure size 360x360 with 1 Axes>"
            ],
            "image/png": "[encoded data removed]"
          },
          "metadata": {
            "needs_background": "light"
          }
        }
      ]
    },
    {
      "cell_type": "code",
      "source": [
        "# Plotting the predictions of model trained with uncleaned, skewed data\n",
        "df_linear_set_3 = pd.DataFrame({'Published_performance':list(y_test_set_3),'Estimated_performance':predictions_set_3})\n",
        "sns.lmplot(x='Estimated_performance', y='Published_performance', data=df_linear_set_3).fig.suptitle(\"Inital Model - PRP Vs ERP with Uncleaned\")"
      ],
      "metadata": {
        "colab": {
          "base_uri": "https://localhost:8080/",
          "height": 386
        },
        "id": "zTbVjdCyqJMu",
        "outputId": "08760ed6-120a-4d98-bf4c-189765d64b15"
      },
      "execution_count": null,
      "outputs": [
        {
          "output_type": "execute_result",
          "data": {
            "text/plain": [
              "Text(0.5, 0.98, 'Inital Model - PRP Vs ERP with Uncleaned')"
            ]
          },
          "metadata": {},
          "execution_count": 94
        },
        {
          "output_type": "display_data",
          "data": {
            "text/plain": [
              "<Figure size 360x360 with 1 Axes>"
            ],
            "image/png": "[encoded data removed]"
          },
          "metadata": {}
        }
      ]
    },
    {
      "cell_type": "markdown",
      "source": [
        "From the above two plots we can say that balancing the skewness has resulted in overall better fit, It can be observed that the error values have reduced, which indicates that Final model is a better fit"
      ],
      "metadata": {
        "id": "29naFtI2CB5r"
      }
    },
    {
      "cell_type": "markdown",
      "source": [
        "### case 2 : Train = 10% Test = 90%"
      ],
      "metadata": {
        "id": "N9nW6DEKvmmk"
      }
    },
    {
      "cell_type": "code",
      "source": [
        "# Plotting the predictions of model trained with 10 % data.\n",
        "x_train_set_2, x_test_set_2, y_train_set_2, y_test_set_2 = train_test_split(x_df,y_df, train_size=0.1)\n",
        "print(\"Set 2 : \",x_train_set_2.shape, x_train_set_1.shape, y_train_set_2.shape, y_train_set_1.shape)"
      ],
      "metadata": {
        "colab": {
          "base_uri": "https://localhost:8080/"
        },
        "id": "X5eQKwM8TZ9a",
        "outputId": "804a4ff0-3b4d-4673-d469-2fa1ea31123c"
      },
      "execution_count": null,
      "outputs": [
        {
          "output_type": "stream",
          "name": "stdout",
          "text": [
            "Set 2 :  (20, 6) (167, 6) (20,) (167,)\n"
          ]
        }
      ]
    },
    {
      "cell_type": "markdown",
      "source": [
        "#### **Model for 10-90 Train test split with uncleaned, skewed data**"
      ],
      "metadata": {
        "id": "L4DwktKSCTI_"
      }
    },
    {
      "cell_type": "code",
      "source": [
        "model_set_2 = linear_model.LinearRegression()\n",
        "model_set_2.fit(x_train_set_2,y_train_set_2)\n",
        "predictions_set_2 = model_set_2.predict(x_test_set_2)\n",
        "\n",
        "#Calculating Mean Squared Error for Performance Evaluation\n",
        "mean_square_error_2 = mean_squared_error(y_test_set_2, predictions_set_2)\n",
        "#Calculating Mean Absolute Error for Performance Evaluation\n",
        "mean_abs_error_2 = mean_absolute_error(y_test_set_2, predictions_set_2)\n",
        "#Calculating Root Mean Squared Error for Performance Evaluation\n",
        "root_mean_square_error_2 = sqrt(mean_squared_error(y_test_set_2, predictions_set_2)) \n",
        "\n",
        "print(f'Mean Squared Error: {mean_square_error_2}')\n",
        "print(f'Mean Absolute Error : {mean_abs_error_2}')\n",
        "print(f'Root Mean Squared Error {root_mean_square_error_2}')"
      ],
      "metadata": {
        "colab": {
          "base_uri": "https://localhost:8080/"
        },
        "id": "jLyhAQDQl_Nu",
        "outputId": "616f30b6-3946-48cf-c9f4-3f0329e5764d"
      },
      "execution_count": null,
      "outputs": [
        {
          "output_type": "stream",
          "name": "stdout",
          "text": [
            "Mean Squared Error: 0.04817330095342986\n",
            "Mean Absolute Error : 0.16754245805875487\n",
            "Root Mean Squared Error 0.2194841701659367\n"
          ]
        }
      ]
    },
    {
      "cell_type": "code",
      "source": [
        "\n",
        "df_linear_set_2 = pd.DataFrame({'Published_performance':list(y_test_set_2), 'Estimated_performance':predictions_set_2})\n",
        "sns.lmplot(x='Estimated_performance', y='Published_performance', data=df_linear_set_2).fig.suptitle(\"Model - PRP Vs ERP with 10 % Training data\")"
      ],
      "metadata": {
        "colab": {
          "base_uri": "https://localhost:8080/",
          "height": 386
        },
        "id": "JFVfN9e4uh2o",
        "outputId": "76615d21-d50b-419e-a275-62ff2c22c950"
      },
      "execution_count": null,
      "outputs": [
        {
          "output_type": "execute_result",
          "data": {
            "text/plain": [
              "Text(0.5, 0.98, 'Model - PRP Vs ERP with 10 % Training data')"
            ]
          },
          "metadata": {},
          "execution_count": 95
        },
        {
          "output_type": "display_data",
          "data": {
            "text/plain": [
              "<Figure size 360x360 with 1 Axes>"
            ],
            "image/png": "[encoded data removed]"
          },
          "metadata": {}
        }
      ]
    },
    {
      "cell_type": "markdown",
      "source": [
        "###**Justification on Split of datasets into training and test sets.**\n",
        "\n",
        "Case 1:\n",
        "\n",
        "  Here we are dealing with the right model fitting, as we are taking 80-20 split for train-test data. We are able to achieve better fit that average fit.\n",
        "\n",
        "Case 2:\n",
        "\n",
        " From the above cases we can see that when we take a train set of 10% it leads to high error. This is a case of underfitting, which can be seen from the plots"
      ],
      "metadata": {
        "id": "Xytm245kkjN4"
      }
    },
    {
      "cell_type": "markdown",
      "source": [
        "###  **K-Fold Cross Validation**"
      ],
      "metadata": {
        "id": "-YqgdUHAtE32"
      }
    },
    {
      "cell_type": "markdown",
      "source": [
        "####80:20 - Train:Test split"
      ],
      "metadata": {
        "id": "_ZPw626NTGbK"
      }
    },
    {
      "cell_type": "code",
      "source": [
        "# KFold cross validation with neg_mean_squared_error scoring for \n",
        "folds = KFold(n_splits = 5, shuffle = True, random_state = 100)\n",
        "cv_scores = cross_val_score(model_set_1, x_train_set_1, y_train_set_1, scoring='neg_mean_squared_error', cv=folds)\n",
        "print(f'Kfold scores \\n {cv_scores}')"
      ],
      "metadata": {
        "colab": {
          "base_uri": "https://localhost:8080/"
        },
        "id": "WBKbhX8xtDn7",
        "outputId": "d9ce2555-35a3-416e-ba3f-1c3ab7fd5067"
      },
      "execution_count": null,
      "outputs": [
        {
          "output_type": "stream",
          "name": "stdout",
          "text": [
            "Kfold scores \n",
            " [-0.02227969 -0.04698126 -0.04293735 -0.02194768 -0.024416  ]\n",
            "LinearRegression()\n"
          ]
        }
      ]
    },
    {
      "cell_type": "markdown",
      "source": [
        "#### 10:90 - Train:Test split"
      ],
      "metadata": {
        "id": "9L4GbldOTNYC"
      }
    },
    {
      "cell_type": "code",
      "source": [
        "# KFold cross validation with neg_mean_squared_error scoring\n",
        "folds = KFold(n_splits = 5, shuffle = True, random_state = 100)\n",
        "cv_scores = cross_val_score(model_set_2, x_train_set_2, y_train_set_2, scoring='neg_mean_squared_error', cv=folds)\n",
        "print(f'Kfold scores \\n {cv_scores}')"
      ],
      "metadata": {
        "colab": {
          "base_uri": "https://localhost:8080/"
        },
        "id": "HcJ2NDHEx7Wm",
        "outputId": "5aab5fc8-a81f-44c7-9a00-bacd36f4e51d"
      },
      "execution_count": null,
      "outputs": [
        {
          "output_type": "stream",
          "name": "stdout",
          "text": [
            "Kfold scores \n",
            " [-0.02657053 -0.02066866 -0.07554855 -0.07273748 -0.00678239]\n"
          ]
        }
      ]
    },
    {
      "cell_type": "markdown",
      "source": [
        "##4. Performance Evaluation"
      ],
      "metadata": {
        "id": "3VL1PDLD0jFG"
      }
    },
    {
      "cell_type": "markdown",
      "source": [
        "Baseline model building with average fit."
      ],
      "metadata": {
        "id": "J8J3NGhgfEno"
      }
    },
    {
      "cell_type": "code",
      "source": [
        "# Calculating mean target value from training dataset\n",
        "mean_target = y_train_set_1.mean()\n",
        "\n",
        "print(\"Baseline mean target value : \", mean_target)\n",
        "mean_target_list = [mean_target for i in range (0,y_test_set_2.count())]\n",
        "mean_target_set = pd.Series(mean_target_list)\n",
        "\n",
        "#Calculating Baseline Mean Squared Error for Performance Evaluation\n",
        "mean_square_error_base = mean_squared_error(y_test_set_2, mean_target_set)\n",
        "#Calculating Baseline Mean Absolute Error for Performance Evaluation\n",
        "mean_abs_error_base = mean_absolute_error(y_test_set_2, mean_target_set)\n",
        "#Calculating Baseline Root Mean Squared Error for Performance Evaluation\n",
        "root_mean_square_error_base = sqrt(mean_squared_error(y_test_set_2, mean_target_set)) \n",
        "\n",
        "print(\"----------------------------------------------------------------\")\n",
        "print(f'Baseline Mean Squared Error : {mean_square_error_base}')\n",
        "print(f'Baseline Mean Absolute Error : {mean_abs_error_base}')\n",
        "print(f'Baseline Root Mean Squared Error : {root_mean_square_error_base}')\n",
        "print(\"----------------------------------------------------------------\")\n",
        "print(f'Mean Squared Error of the final model : {mean_square_error_1}')\n",
        "print(f'Mean Absolute Error of the final model : {mean_abs_error_1}')\n",
        "print(f'Root Mean Squared Error of the final model : {root_mean_square_error_1}')\n",
        "print(\"----------------------------------------------------------------\")\n",
        "\n",
        "# Plotting the predictions of model trained with cleaned data\n",
        "df_linear_set_1 = pd.DataFrame({'Published_performance':list(y_test_set_1),'Estimated_performance':predictions_set_1})\n",
        "ax = sns.lmplot(x='Estimated_performance', y='Published_performance', data=df_linear_set_1)\n",
        "ax.refline(x=mean_target,y=0)"
      ],
      "metadata": {
        "colab": {
          "base_uri": "https://localhost:8080/",
          "height": 535
        },
        "id": "1Xbh3kDF0sH-",
        "outputId": "27b245d9-3c6d-486f-e0fd-03c31e32d00a"
      },
      "execution_count": null,
      "outputs": [
        {
          "output_type": "stream",
          "name": "stdout",
          "text": [
            "Baseline mean target value :  2.5791919579269007\n",
            "----------------------------------------------------------------\n",
            "Baseline Mean Squared Error: 0.1545307514897547\n",
            "Baseline Mean Absolute Error : 0.3178964437852074\n",
            "Baseline Root Mean Squared Error 0.3931039957692553\n",
            "----------------------------------------------------------------\n",
            "Mean Squared Error of the final model: 0.020903303549812506\n",
            "Mean Absolute Error of the final model: 0.09951227815992308\n",
            "Root Mean Squared Error of the final model: 0.14457974806248802\n",
            "----------------------------------------------------------------\n"
          ]
        },
        {
          "output_type": "display_data",
          "data": {
            "text/plain": [
              "<Figure size 360x360 with 1 Axes>"
            ],
            "image/png": "[encoded data removed]"
          },
          "metadata": {}
        }
      ]
    },
    {
      "cell_type": "markdown",
      "source": [
        "The above plot compares the fit of final model vs average fit."
      ],
      "metadata": {
        "id": "uHrwWJySQh7r"
      }
    },
    {
      "cell_type": "markdown",
      "source": [
        "####Peformance Evaluation - Conclusion"
      ],
      "metadata": {
        "id": "8NBuxh4TNsai"
      }
    },
    {
      "cell_type": "markdown",
      "source": [
        "\n",
        "*  By comparing our RMSE values with baseline RMSE values, we can clearly observe that the final model produces considerably lower RMSE (approximately 50%), which is desired. Hence it can be concluded that our model is a better fit.\n",
        "*   The influence of the six predictor variable on the dependent target variable didnot lead to overfit or underfit, as we chose 80-20 train - test split. Whereas if we choose training data of less than 50%, we were able to observe underfit.\n",
        "\n",
        "\n",
        "\n"
      ],
      "metadata": {
        "id": "MHjtZCtAPtF7"
      }
    }
  ]
}